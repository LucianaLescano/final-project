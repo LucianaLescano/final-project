{
 "cells": [
  {
   "cell_type": "code",
   "execution_count": 106,
   "metadata": {},
   "outputs": [],
   "source": [
    "import pandas as pd\n",
    "from pymongo import MongoClient\n",
    "import requests\n",
    "import json"
   ]
  },
  {
   "cell_type": "markdown",
   "metadata": {},
   "source": [
    "# API"
   ]
  },
  {
   "cell_type": "code",
   "execution_count": 132,
   "metadata": {},
   "outputs": [],
   "source": [
    "data = pd.read_csv('../data/final_dataset_to_mongo.csv', index_col='Unnamed: 0')"
   ]
  },
  {
   "cell_type": "code",
   "execution_count": 133,
   "metadata": {},
   "outputs": [
    {
     "data": {
      "text/html": [
       "<div>\n",
       "<style scoped>\n",
       "    .dataframe tbody tr th:only-of-type {\n",
       "        vertical-align: middle;\n",
       "    }\n",
       "\n",
       "    .dataframe tbody tr th {\n",
       "        vertical-align: top;\n",
       "    }\n",
       "\n",
       "    .dataframe thead th {\n",
       "        text-align: right;\n",
       "    }\n",
       "</style>\n",
       "<table border=\"1\" class=\"dataframe\">\n",
       "  <thead>\n",
       "    <tr style=\"text-align: right;\">\n",
       "      <th></th>\n",
       "      <th>Brand</th>\n",
       "      <th>Category</th>\n",
       "      <th>Name</th>\n",
       "      <th>Skin_Type</th>\n",
       "      <th>Ingredients</th>\n",
       "      <th>URL</th>\n",
       "      <th>Price</th>\n",
       "      <th>Rating</th>\n",
       "    </tr>\n",
       "  </thead>\n",
       "  <tbody>\n",
       "    <tr>\n",
       "      <th>5995</th>\n",
       "      <td>Proactiv</td>\n",
       "      <td>Cleanser</td>\n",
       "      <td>Deep Cleansing Wash</td>\n",
       "      <td>Dry</td>\n",
       "      <td>Water- Cocamidopropyl Betaine- Distearyl Phth...</td>\n",
       "      <td>https://www.sephora.com/product/deep-cleansing...</td>\n",
       "      <td>29.05</td>\n",
       "      <td>5.0</td>\n",
       "    </tr>\n",
       "    <tr>\n",
       "      <th>6191</th>\n",
       "      <td>SEPHORA COLLECTION</td>\n",
       "      <td>Face Oil</td>\n",
       "      <td>Multi-Purpose Oil</td>\n",
       "      <td>Dry</td>\n",
       "      <td>Vitis Vinifera (Grape) Seed Oil- Diisopropyl A...</td>\n",
       "      <td>https://www.sephora.com/product/multi-purpose-...</td>\n",
       "      <td>6.64</td>\n",
       "      <td>4.5</td>\n",
       "    </tr>\n",
       "    <tr>\n",
       "      <th>2076</th>\n",
       "      <td>Dr. Jart+</td>\n",
       "      <td>Face Serum</td>\n",
       "      <td>Focuspot™ Micro Tip™ Patches</td>\n",
       "      <td>Combination</td>\n",
       "      <td>Sodium Hyaluronate- Trehalose- Clitoria Ternat...</td>\n",
       "      <td>https://www.sephora.com/product/focuspot-micro...</td>\n",
       "      <td>14.94</td>\n",
       "      <td>3.0</td>\n",
       "    </tr>\n",
       "    <tr>\n",
       "      <th>1855</th>\n",
       "      <td>Dr. Brandt Skincare</td>\n",
       "      <td>Face Serum</td>\n",
       "      <td>Needles No More™ Wrinkle Smoothing Cream</td>\n",
       "      <td>Dry</td>\n",
       "      <td>-Neuropeptides: Deliver skin relaxing ingredi...</td>\n",
       "      <td>https://www.sephora.com/product/needles-no-mor...</td>\n",
       "      <td>73.87</td>\n",
       "      <td>3.5</td>\n",
       "    </tr>\n",
       "    <tr>\n",
       "      <th>4375</th>\n",
       "      <td>Lancôme</td>\n",
       "      <td>Toner</td>\n",
       "      <td>Tonique Douceur Softening Hydrating Toner with...</td>\n",
       "      <td>Combination</td>\n",
       "      <td>Water- Glycerin- Sodium Citrate- Ci 42090/ Blu...</td>\n",
       "      <td>https://www.sephora.com/product/tonique-douceu...</td>\n",
       "      <td>22.41</td>\n",
       "      <td>4.5</td>\n",
       "    </tr>\n",
       "  </tbody>\n",
       "</table>\n",
       "</div>"
      ],
      "text/plain": [
       "                    Brand    Category  \\\n",
       "5995             Proactiv    Cleanser   \n",
       "6191   SEPHORA COLLECTION    Face Oil   \n",
       "2076            Dr. Jart+  Face Serum   \n",
       "1855  Dr. Brandt Skincare  Face Serum   \n",
       "4375              Lancôme       Toner   \n",
       "\n",
       "                                                   Name    Skin_Type  \\\n",
       "5995                                Deep Cleansing Wash          Dry   \n",
       "6191                                  Multi-Purpose Oil          Dry   \n",
       "2076                       Focuspot™ Micro Tip™ Patches  Combination   \n",
       "1855           Needles No More™ Wrinkle Smoothing Cream          Dry   \n",
       "4375  Tonique Douceur Softening Hydrating Toner with...  Combination   \n",
       "\n",
       "                                            Ingredients  \\\n",
       "5995   Water- Cocamidopropyl Betaine- Distearyl Phth...   \n",
       "6191  Vitis Vinifera (Grape) Seed Oil- Diisopropyl A...   \n",
       "2076  Sodium Hyaluronate- Trehalose- Clitoria Ternat...   \n",
       "1855   -Neuropeptides: Deliver skin relaxing ingredi...   \n",
       "4375  Water- Glycerin- Sodium Citrate- Ci 42090/ Blu...   \n",
       "\n",
       "                                                    URL  Price  Rating  \n",
       "5995  https://www.sephora.com/product/deep-cleansing...  29.05     5.0  \n",
       "6191  https://www.sephora.com/product/multi-purpose-...   6.64     4.5  \n",
       "2076  https://www.sephora.com/product/focuspot-micro...  14.94     3.0  \n",
       "1855  https://www.sephora.com/product/needles-no-mor...  73.87     3.5  \n",
       "4375  https://www.sephora.com/product/tonique-douceu...  22.41     4.5  "
      ]
     },
     "execution_count": 133,
     "metadata": {},
     "output_type": "execute_result"
    }
   ],
   "source": [
    "data.sample(5)"
   ]
  },
  {
   "cell_type": "markdown",
   "metadata": {},
   "source": [
    "## Mongo queries\n",
    "\n",
    "For example:"
   ]
  },
  {
   "cell_type": "code",
   "execution_count": 134,
   "metadata": {},
   "outputs": [],
   "source": [
    "con = MongoClient(\"localhost:27017\")"
   ]
  },
  {
   "cell_type": "code",
   "execution_count": 135,
   "metadata": {},
   "outputs": [],
   "source": [
    "db = con.get_database(\"skincare\")"
   ]
  },
  {
   "cell_type": "code",
   "execution_count": 136,
   "metadata": {},
   "outputs": [],
   "source": [
    "collection = db.get_collection(\"first\")"
   ]
  },
  {
   "cell_type": "code",
   "execution_count": 137,
   "metadata": {},
   "outputs": [],
   "source": [
    "# Single query\n",
    "\n",
    "one = list(collection.find({'Brand':'Anthony'}, {'_id':0}))"
   ]
  },
  {
   "cell_type": "code",
   "execution_count": 138,
   "metadata": {},
   "outputs": [
    {
     "data": {
      "text/plain": [
       "{'Brand': 'Anthony',\n",
       " 'Category': 'Cleanser',\n",
       " 'Name': 'Glycolic Facial Cleanser',\n",
       " 'Skin_Type': 'Normal',\n",
       " 'Ingredients': ' -Glycolic Acid (4.9%): Works to loosen the surface layer of dead cells and helps clear oil.-Aloe Vera: Moisturizes- soothes- and promotes healing while calming skin without creating a greasy feeling.-Vitamin A: Provides antioxidant action to soften- smooth- and increase elasticity of skin.-Vitamin C: Provides antioxidant action to protect- firm- and brighten skin.\\n\\n\\n\\nWater- Cocoamidopropyl Oxide- Glycerin- Cetyl Alcohol- Stearyl Alcohol- Potassium Hydroxide- Sodium Phytate- Citrus Grandis Peel Oil- Citrus Noblis Peel Oil- Ascorbic Acid- Tocopheryl Acetate- Retinyl Acetate- Methylchloroisothiazolinone- Methylisothiazolione- Calendula Officinalis Flower Extract- Anthemis Noblis Flower Extract.',\n",
       " 'URL': 'https://www.sephora.com/product/glycolic-facial-cleanser-P9038?icid2=products grid:p9038',\n",
       " 'Price': 24.9,\n",
       " 'Rating': 4.5}"
      ]
     },
     "execution_count": 138,
     "metadata": {},
     "output_type": "execute_result"
    }
   ],
   "source": [
    "one[0]"
   ]
  },
  {
   "cell_type": "code",
   "execution_count": 139,
   "metadata": {},
   "outputs": [
    {
     "name": "stdout",
     "output_type": "stream",
     "text": [
      "Please choose a brand:Sensitive\n"
     ]
    }
   ],
   "source": [
    "# Query using an input\n",
    "# SKIN TYPE\n",
    "\n",
    "user_input = input('Please choose a brand:')"
   ]
  },
  {
   "cell_type": "code",
   "execution_count": 140,
   "metadata": {},
   "outputs": [],
   "source": [
    "two = list(collection.find({'Skin_Type':user_input}, {'_id':0}))"
   ]
  },
  {
   "cell_type": "code",
   "execution_count": 143,
   "metadata": {
    "scrolled": false
   },
   "outputs": [
    {
     "data": {
      "text/plain": [
       "{'Brand': 'Algenist',\n",
       " 'Category': 'Face Serum',\n",
       " 'Name': 'GENIUS Ultimate Anti-Aging Vitamin C+ Serum',\n",
       " 'Skin_Type': 'Sensitive',\n",
       " 'Ingredients': '-Alguronic Acid: Improves the appearance of firmness which results in more toned and younger looking skin.\\n-Microalgae Oil: Keeps skin hydrated up to five times longer than untreated skin over a 24-hour period.\\n-Vitamin C+: Helps to reduce the appearance of discoloration and boost radiance in the skin.\\n-Plant Collagen: Hydrates and conditions the skin while promoting a more youthful appearance.\\n\\nWater- Glycerin- Butylene Glycol- 3-O-Ethyl Ascorbic Acid- Polymethylsilsesquioxane- Sodium Citrate- Hydroxyethyl Acrylate/Sodium Acryloyldimethyl Taurate Copolymer- Niacinamide- Ethoxydiglycol- Algae Exopolysaccharides- Chlorella Protothecoides Oil- Vinyl Dimethicone/ Methicone Silsesquioxane Crosspolymer- Citric Acid- Algae Extract- Peg-12 Dimethicone- Palmitoyl Oligopeptide- Palmitoyl Tetrapeptide-7- Caprylyl Glycol- Xanthan Gum- Vegetable Collagen- Ethylhexylglycerin- Hexylene Glycol- Disodium EDTA- Plantago Lanceolata Leaf Extract- Sorbitan Isostearate- Polysorbate 60- Sodium Lauroyl Lactylate- Carbomer- Polysorbate 20- Ceramide NP- Ceramide AP- Ceramide EOP- Phytosphingosine- Cholesterol- Leuconostoc/Radish Root Ferment Filtrate- Phenoxyethanol- Fragrance- Coumarin.\\n',\n",
       " 'URL': 'https://www.sephora.com/product/genius-ultimate-anti-aging-vitamin-c-serum-P392945?icid2=products grid:p392945',\n",
       " 'Price': 97.94,\n",
       " 'Rating': 4}"
      ]
     },
     "execution_count": 143,
     "metadata": {},
     "output_type": "execute_result"
    }
   ],
   "source": [
    "two[0]"
   ]
  },
  {
   "cell_type": "code",
   "execution_count": 144,
   "metadata": {},
   "outputs": [
    {
     "data": {
      "text/plain": [
       "62"
      ]
     },
     "execution_count": 144,
     "metadata": {},
     "output_type": "execute_result"
    }
   ],
   "source": [
    "len(two)"
   ]
  },
  {
   "cell_type": "code",
   "execution_count": 167,
   "metadata": {},
   "outputs": [],
   "source": [
    "# Query using an multiple input\n",
    "# SKIN TYPE\n",
    "\n",
    "user_input = ['alpyn beauty', \"Kiehl's Since 1851\", 'Farmacy']"
   ]
  },
  {
   "cell_type": "code",
   "execution_count": 168,
   "metadata": {},
   "outputs": [],
   "source": [
    "three = list(collection.find({'Brand':{\"$in\": user_input}}, {'_id':0}))"
   ]
  },
  {
   "cell_type": "code",
   "execution_count": 170,
   "metadata": {
    "scrolled": true
   },
   "outputs": [
    {
     "data": {
      "text/plain": [
       "{'Brand': 'alpyn beauty',\n",
       " 'Category': 'Cleanser',\n",
       " 'Name': 'PlantGenius® Creamy Bubbling Cleanser with Fruit Enzymes & AHAs',\n",
       " 'Skin_Type': 'Dry',\n",
       " 'Ingredients': \" -Papaya and Pomegranate: Provide gentle enzymatic exfoliation to remove dead skin cells and refine congested pores for healthy- glowing skin.                \\n-Glycolic and Lactic Acid: AHAs that support natural cell turnover- smooth- and brighten skin.\\n-Hyaluronic Acid and Ceramides: Hydrate and maintain the skin's moisture barrier for plumper- more supple skin.Water- Glycerin- Sodium Cocoyl Isethionate- Sodium Hyaluronate- Hamamelis Virginiana (Witch Hazel) L Methyl Cocoyl Taurate- Cetearyl Alcohol- Lactobacillus/Punica Granatum (Pomegranate) Fruit Ferment Extract- Polyacrylate-33- Sodium Cocoyl Apple Amino Acids- Dehydroacetic Acid- Benzyl Alcohol- Tromethamine- Carica Papaya (Papaya) Fruit Extract- Potassium Sorbate- Eclipta Prostrata Extract- Melia Azadirachta Leaf Extract- Moringa Pterygosperma Seed Oil- Glycolic Acid- Lactic Acid- Ascorbic Acid (Vitamin C)- Linoleic Acid- Simmondsia Chinensis (Jojoba) Seed Oil- Lavandula Angustifolia (Lavender) Oil- Citrus Aurantium Dulcis (Orange) Oil- Salvia Officinalis (Sage) Leaf Extract- Arnica Montana (Arnica) Flower Extract- Borago Officinalis (Borage) Flower Extract- Calendula Officinalis (Calendula) Flower Extract- Chamomilla Recutita (Matricaria) Flower Extract- Ceramide NG- Alcohol. *Certified Organic.Clean at Sephora products are formulated without:Sulfates—SLS + SLES- Parabens- Formaldehydes- Formaldehyde-releasing agents- Phthalates- Mineral Oil- Retinyl Palmitate- Oxybenzone- Coal Tar- Hydroquinone- Triclosan- Triclocarban- Undisclosed synthetic fragrances (Products can be formulated with disclosed synthetic fragrances that meet the following two criteria: (1) the synthetic fragrances do not include any of the ingredients listed in numbers 1 through 12 above and (2) the synthetic fragrances are at a concentration below 1% of the total formula) The following type of acrylates: (ethyl acrylate- ethyl methacrylate- methyl methacrylate- butyl methacrylate- hydroxypropyl methacrylate- tetrahydrofurfuryl methacrylate- trimethylolpropane trimethacrylate - aluminum salts)- Animal Oils/Musks/Fats- Benzophenone + Related Compounds- Butoxyethanol- Carbon Black- Lead/Lead Acetate- Methyl Cellosolve + Methoxyethanol- Methylchloroisothiazolinone & Methylisothiazolinone- Mercury + Mercury Compounds (Thimerisol)- Insoluble Plastic Microbeads (This prohibited ingredient applies to products that are meant to be rinsed off )- Resorcinol- Talc (Talc that is free of any asbestos can be used in the formulation provided that Brand conducts testing to ensure that talc is free of any asbestos.)- Toluene- Butylated hydroxyanisole (BHA)- Butylated hydroxytoluene (BHT) that is 0.1% or more of total formula- Ethanolamines DEA/TEA/MEA/ETA- Nanoparticles as defined by the European Commission- Petrolatum and Parrafin that is not USP grade- Phenoxyethanol that is 1% or more of total formulation- Polyacrylamide & Acrylamide- The following types of Styrene (Bromostyrene- Deastyrene/acrylates/dvbcopolymer- sodium styrene/divinylbenzene copolymer - styrene oxide- styrene)- 1-4 Dioxane in final formulas must comply with the thresholds as follows: (10 or < ppm for products that are meant to be rinsed off- wiped off or removed- 3ppm or < for products that are meant to remain on the skin).\",\n",
       " 'URL': 'https://www.sephora.com/product/alpyn-beauty-plantgenius-creamy-bubbling-cleanser-with-fruit-enzymes-ahas-P455614?icid2=products grid:p455614',\n",
       " 'Price': 29.88,\n",
       " 'Rating': 4.5}"
      ]
     },
     "execution_count": 170,
     "metadata": {},
     "output_type": "execute_result"
    }
   ],
   "source": [
    "three[9]"
   ]
  },
  {
   "cell_type": "code",
   "execution_count": 232,
   "metadata": {},
   "outputs": [],
   "source": [
    "# Multi query for routine\n",
    "\n",
    "four = list(collection.find({\"$and\":[{'Skin_Type':'Oily'},{'Price':{\"$lte\":16.66}}, {'Category':'Cleanser'}]}, {'_id':0, 'Ingredients':0, 'URL':0}).limit(3))"
   ]
  },
  {
   "cell_type": "code",
   "execution_count": 233,
   "metadata": {},
   "outputs": [
    {
     "data": {
      "text/plain": [
       "[{'Brand': 'belif',\n",
       "  'Category': 'Cleanser',\n",
       "  'Name': 'Pore Cleaner Foam Cleanser',\n",
       "  'Skin_Type': 'Oily',\n",
       "  'Price': 16.6,\n",
       "  'Rating': 4},\n",
       " {'Brand': 'Caudalie',\n",
       "  'Category': 'Cleanser',\n",
       "  'Name': 'Micellar Cleansing Water',\n",
       "  'Skin_Type': 'Oily',\n",
       "  'Price': 11.62,\n",
       "  'Rating': 4},\n",
       " {'Brand': 'Clarisonic Skincare',\n",
       "  'Category': 'Cleanser',\n",
       "  'Name': 'Refreshing Gel Cleanser',\n",
       "  'Skin_Type': 'Oily',\n",
       "  'Price': 15.77,\n",
       "  'Rating': 4.5}]"
      ]
     },
     "execution_count": 233,
     "metadata": {},
     "output_type": "execute_result"
    }
   ],
   "source": [
    "four"
   ]
  },
  {
   "cell_type": "code",
   "execution_count": 235,
   "metadata": {},
   "outputs": [],
   "source": [
    "five = list(collection.find({\"$and\":[{'Skin_Type':'Oily'},{'Price':{\"$lte\":16.66}}, {'Category':'Cleanser'}]}, {'_id':0, 'Brand':0, 'Category':0, 'Name':0, 'Skin_Type':0, 'Ingredients':0, 'Price':0, 'Rating':0}).limit(3).sort('Rating', -1))"
   ]
  },
  {
   "cell_type": "code",
   "execution_count": 237,
   "metadata": {},
   "outputs": [
    {
     "data": {
      "text/plain": [
       "{'URL': 'https://www.sephora.com/product/purity-made-simple-micellar-cleansing-water-mini-P433159?icid2=products grid:p433159'}"
      ]
     },
     "execution_count": 237,
     "metadata": {},
     "output_type": "execute_result"
    }
   ],
   "source": [
    "five[0]"
   ]
  },
  {
   "cell_type": "markdown",
   "metadata": {},
   "source": [
    "### Working on API options"
   ]
  },
  {
   "cell_type": "code",
   "execution_count": 145,
   "metadata": {
    "scrolled": true
   },
   "outputs": [
    {
     "data": {
      "text/html": [
       "<div>\n",
       "<style scoped>\n",
       "    .dataframe tbody tr th:only-of-type {\n",
       "        vertical-align: middle;\n",
       "    }\n",
       "\n",
       "    .dataframe tbody tr th {\n",
       "        vertical-align: top;\n",
       "    }\n",
       "\n",
       "    .dataframe thead th {\n",
       "        text-align: right;\n",
       "    }\n",
       "</style>\n",
       "<table border=\"1\" class=\"dataframe\">\n",
       "  <thead>\n",
       "    <tr style=\"text-align: right;\">\n",
       "      <th></th>\n",
       "      <th>Brand</th>\n",
       "      <th>Category</th>\n",
       "      <th>Name</th>\n",
       "      <th>Skin_Type</th>\n",
       "      <th>Ingredients</th>\n",
       "      <th>URL</th>\n",
       "      <th>Price</th>\n",
       "      <th>Rating</th>\n",
       "    </tr>\n",
       "  </thead>\n",
       "  <tbody>\n",
       "    <tr>\n",
       "      <th>4863</th>\n",
       "      <td>Murad</td>\n",
       "      <td>Eye Cream</td>\n",
       "      <td>Hydro-Dynamic® Ultimate Moisture For Eyes</td>\n",
       "      <td>Normal</td>\n",
       "      <td>-Collagen Support Complex: Supports skin’s r...</td>\n",
       "      <td>https://www.sephora.com/product/hydro-dynamic-...</td>\n",
       "      <td>58.10</td>\n",
       "      <td>4.0</td>\n",
       "    </tr>\n",
       "    <tr>\n",
       "      <th>3728</th>\n",
       "      <td>Kate Somerville</td>\n",
       "      <td>Cleanser</td>\n",
       "      <td>Gentle Daily Wash</td>\n",
       "      <td>Normal</td>\n",
       "      <td>-Lavender Essence and Natural Sage: Soothe sk...</td>\n",
       "      <td>https://www.sephora.com/product/gentle-daily-w...</td>\n",
       "      <td>29.88</td>\n",
       "      <td>4.0</td>\n",
       "    </tr>\n",
       "    <tr>\n",
       "      <th>3211</th>\n",
       "      <td>Herbivore</td>\n",
       "      <td>Exfoliator</td>\n",
       "      <td>Crushed Amethyst Exfoliating Body Polish</td>\n",
       "      <td>Oily</td>\n",
       "      <td>-Crushed Amethyst Gemstone: Cosmetic-grade- fi...</td>\n",
       "      <td>https://www.sephora.com/product/crushed-amethy...</td>\n",
       "      <td>36.52</td>\n",
       "      <td>4.0</td>\n",
       "    </tr>\n",
       "  </tbody>\n",
       "</table>\n",
       "</div>"
      ],
      "text/plain": [
       "                Brand    Category                                       Name  \\\n",
       "4863            Murad   Eye Cream  Hydro-Dynamic® Ultimate Moisture For Eyes   \n",
       "3728  Kate Somerville    Cleanser                          Gentle Daily Wash   \n",
       "3211        Herbivore  Exfoliator   Crushed Amethyst Exfoliating Body Polish   \n",
       "\n",
       "     Skin_Type                                        Ingredients  \\\n",
       "4863    Normal    -Collagen Support Complex: Supports skin’s r...   \n",
       "3728    Normal   -Lavender Essence and Natural Sage: Soothe sk...   \n",
       "3211      Oily  -Crushed Amethyst Gemstone: Cosmetic-grade- fi...   \n",
       "\n",
       "                                                    URL  Price  Rating  \n",
       "4863  https://www.sephora.com/product/hydro-dynamic-...  58.10     4.0  \n",
       "3728  https://www.sephora.com/product/gentle-daily-w...  29.88     4.0  \n",
       "3211  https://www.sephora.com/product/crushed-amethy...  36.52     4.0  "
      ]
     },
     "execution_count": 145,
     "metadata": {},
     "output_type": "execute_result"
    }
   ],
   "source": [
    "data.sample(3)"
   ]
  },
  {
   "cell_type": "code",
   "execution_count": 146,
   "metadata": {},
   "outputs": [],
   "source": [
    "list_brand = list(data.Brand.unique())"
   ]
  },
  {
   "cell_type": "code",
   "execution_count": 147,
   "metadata": {},
   "outputs": [
    {
     "data": {
      "text/plain": [
       "['Algenist',\n",
       " 'Alpha-H',\n",
       " 'alpyn beauty',\n",
       " 'AMOREPACIFIC',\n",
       " 'Anastasia Beverly Hills',\n",
       " 'Anthony',\n",
       " 'Armani Beauty',\n",
       " 'The Art of Shaving',\n",
       " 'bareMinerals',\n",
       " 'BeautyBio',\n",
       " 'beautyblender',\n",
       " 'BECCA',\n",
       " 'belif',\n",
       " 'Benefit Cosmetics',\n",
       " 'Biossance',\n",
       " 'Bobbi Brown',\n",
       " 'boscia',\n",
       " 'Caudalie',\n",
       " 'Charlotte Tilbury',\n",
       " 'Ciaté London',\n",
       " 'Clarins',\n",
       " 'Clarisonic Skincare',\n",
       " 'CLINIQUE',\n",
       " 'Conture',\n",
       " 'COOLA',\n",
       " 'COVER FX',\n",
       " 'Deborah Lippmann',\n",
       " 'DERMAFLASH',\n",
       " 'Dermalogica',\n",
       " 'Dior',\n",
       " \"Dr Roebuck's\",\n",
       " 'Dr. Barbara Sturm',\n",
       " 'Dr. Brandt Skincare',\n",
       " 'Dr. Dennis Gross Skincare',\n",
       " 'Dr. Jart+',\n",
       " 'Drunk Elephant',\n",
       " 'Edible Beauty',\n",
       " 'Erborian',\n",
       " 'Erno Laszlo',\n",
       " 'Estée Lauder',\n",
       " 'Eve Lom',\n",
       " 'Farmacy',\n",
       " 'FARSÁLI',\n",
       " 'FENTY BEAUTY by Rihanna',\n",
       " 'First Aid Beauty',\n",
       " 'Flora + Bast',\n",
       " 'FOREO',\n",
       " 'Fresh',\n",
       " 'Givenchy',\n",
       " 'GLAMGLOW',\n",
       " 'Glow Recipe',\n",
       " 'goop',\n",
       " 'Grande Cosmetics',\n",
       " 'Guerlain',\n",
       " 'Herbivore',\n",
       " 'High Beauty',\n",
       " 'Hourglass',\n",
       " 'ILIA',\n",
       " 'INC.redible',\n",
       " 'Indie Lee',\n",
       " 'The INKEY List',\n",
       " 'innisfree',\n",
       " 'Isle of Paradise',\n",
       " 'IT Cosmetics',\n",
       " 'Jack Black',\n",
       " 'Jillian Dempsey',\n",
       " 'Josie Maran',\n",
       " 'Kate Somerville',\n",
       " 'KENZOKI',\n",
       " \"Kiehl's Since 1851\",\n",
       " 'KNC Beauty',\n",
       " 'Koh Gen Do',\n",
       " 'Kopari',\n",
       " 'KORA Organics',\n",
       " 'KORRES',\n",
       " 'KVD Vegan Beauty',\n",
       " \"L'Occitane\",\n",
       " 'La Mer',\n",
       " 'Lab Series For Men',\n",
       " 'LANCER Skincare',\n",
       " 'Lancôme',\n",
       " 'LANEIGE',\n",
       " 'Laura Mercier',\n",
       " 'LAVANILA',\n",
       " 'LightStim ',\n",
       " 'lilah b.',\n",
       " 'Lord Jones',\n",
       " 'lululemon selfcare',\n",
       " 'LXMI',\n",
       " 'MAELYS Cosmetics',\n",
       " 'Marc Jacobs Beauty',\n",
       " 'Mario Badescu',\n",
       " 'MDSolarSciences',\n",
       " 'MILK MAKEUP',\n",
       " 'Moon Juice',\n",
       " 'Moroccanoil',\n",
       " 'Mount Lai',\n",
       " 'Murad',\n",
       " 'NARS',\n",
       " 'Naturally Serious',\n",
       " 'NUDESTIX',\n",
       " 'NuFACE',\n",
       " 'Nurse Jamie',\n",
       " 'Obagi Clinical',\n",
       " 'OLEHENRIKSEN',\n",
       " 'Omorovicza',\n",
       " 'The Ordinary',\n",
       " 'Origins',\n",
       " 'OUAI',\n",
       " 'Peace Out',\n",
       " 'Perricone MD',\n",
       " 'Peter Thomas Roth',\n",
       " 'philosophy',\n",
       " 'PMD',\n",
       " 'Pretty Vulgar',\n",
       " 'Prima',\n",
       " 'Primera',\n",
       " 'Proactiv',\n",
       " 'ReFa',\n",
       " 'REN Clean Skincare',\n",
       " 'rms beauty',\n",
       " 'RODIN olio lusso ',\n",
       " 'Saint Jane Beauty',\n",
       " 'Saturday Skin',\n",
       " 'SEPHORA COLLECTION',\n",
       " 'Sephora Favorites',\n",
       " 'Shani Darden Skin Care',\n",
       " 'Shiseido',\n",
       " 'SK-II',\n",
       " 'Skin Inc Supplement Bar',\n",
       " 'Skin Laundry',\n",
       " 'Skinfix',\n",
       " 'Smashbox',\n",
       " 'SOBEL SKIN Rx',\n",
       " 'Sol de Janeiro',\n",
       " 'St. Tropez',\n",
       " 'StackedSkincare',\n",
       " 'STELLAR',\n",
       " 'Sulwhasoo',\n",
       " 'Summer Fridays',\n",
       " 'SUNDAY RILEY',\n",
       " 'Supergoop!',\n",
       " 'TAN-LUXE',\n",
       " 'tarte',\n",
       " 'Tata Harper',\n",
       " 'Tatcha',\n",
       " 'TOM FORD',\n",
       " 'Too Faced',\n",
       " 'TWEEZERMAN',\n",
       " 'Volition Beauty',\n",
       " 'Wander Beauty',\n",
       " 'Wishful',\n",
       " 'Youth To The People',\n",
       " 'Yves Saint Laurent']"
      ]
     },
     "execution_count": 147,
     "metadata": {},
     "output_type": "execute_result"
    }
   ],
   "source": [
    "list_brand"
   ]
  },
  {
   "cell_type": "code",
   "execution_count": 148,
   "metadata": {},
   "outputs": [],
   "source": [
    "list_category = list(data.Category.unique())"
   ]
  },
  {
   "cell_type": "code",
   "execution_count": 149,
   "metadata": {},
   "outputs": [
    {
     "data": {
      "text/plain": [
       "['Face Serum',\n",
       " 'Moisturizer',\n",
       " 'Eye Cream',\n",
       " 'Sunscreen & After Sun Care',\n",
       " 'Face Mask',\n",
       " 'Cleanser',\n",
       " 'Decollete & Neck Cream',\n",
       " 'Face Oil',\n",
       " 'Facial Peel',\n",
       " 'Exfoliator',\n",
       " 'BB & CC Cream',\n",
       " 'Toner',\n",
       " 'Face Set',\n",
       " 'Anti-Aging',\n",
       " 'Facial Roller',\n",
       " 'Eye Mask',\n",
       " 'Face Wipe',\n",
       " 'Night Cream',\n",
       " 'Blemish & Acne Treatment',\n",
       " 'Face Tanner',\n",
       " 'Facial Cleansing Brush']"
      ]
     },
     "execution_count": 149,
     "metadata": {},
     "output_type": "execute_result"
    }
   ],
   "source": [
    "list_category"
   ]
  },
  {
   "cell_type": "code",
   "execution_count": 150,
   "metadata": {},
   "outputs": [
    {
     "data": {
      "text/plain": [
       "array(['Normal', 'Dry', 'Combination', 'Oily', 'Sensitive', 'Mature',\n",
       "       'Oil'], dtype=object)"
      ]
     },
     "execution_count": 150,
     "metadata": {},
     "output_type": "execute_result"
    }
   ],
   "source": [
    "data.Skin_Type.unique()"
   ]
  },
  {
   "cell_type": "code",
   "execution_count": 151,
   "metadata": {},
   "outputs": [],
   "source": [
    "mini = float(data.Price.min())"
   ]
  },
  {
   "cell_type": "code",
   "execution_count": 152,
   "metadata": {},
   "outputs": [
    {
     "data": {
      "text/plain": [
       "2.49"
      ]
     },
     "execution_count": 152,
     "metadata": {},
     "output_type": "execute_result"
    }
   ],
   "source": [
    "mini"
   ]
  },
  {
   "cell_type": "code",
   "execution_count": 153,
   "metadata": {},
   "outputs": [
    {
     "data": {
      "text/plain": [
       "2.49"
      ]
     },
     "execution_count": 153,
     "metadata": {},
     "output_type": "execute_result"
    }
   ],
   "source": [
    "data.Price.min()"
   ]
  },
  {
   "cell_type": "code",
   "execution_count": 154,
   "metadata": {},
   "outputs": [],
   "source": [
    "maxi = int(data.Price.max())"
   ]
  },
  {
   "cell_type": "code",
   "execution_count": 155,
   "metadata": {},
   "outputs": [
    {
     "data": {
      "text/plain": [
       "410"
      ]
     },
     "execution_count": 155,
     "metadata": {},
     "output_type": "execute_result"
    }
   ],
   "source": [
    "maxi"
   ]
  },
  {
   "cell_type": "code",
   "execution_count": 156,
   "metadata": {},
   "outputs": [
    {
     "data": {
      "text/plain": [
       "410.85"
      ]
     },
     "execution_count": 156,
     "metadata": {},
     "output_type": "execute_result"
    }
   ],
   "source": [
    "data.Price.max()"
   ]
  },
  {
   "cell_type": "code",
   "execution_count": 157,
   "metadata": {},
   "outputs": [
    {
     "data": {
      "text/plain": [
       "5.0"
      ]
     },
     "execution_count": 157,
     "metadata": {},
     "output_type": "execute_result"
    }
   ],
   "source": [
    "data.Rating.max()"
   ]
  },
  {
   "cell_type": "code",
   "execution_count": 172,
   "metadata": {},
   "outputs": [],
   "source": [
    "number = '98.65'"
   ]
  },
  {
   "cell_type": "code",
   "execution_count": 179,
   "metadata": {},
   "outputs": [
    {
     "data": {
      "text/plain": [
       "str"
      ]
     },
     "execution_count": 179,
     "metadata": {},
     "output_type": "execute_result"
    }
   ],
   "source": [
    "type(number)"
   ]
  },
  {
   "cell_type": "code",
   "execution_count": 174,
   "metadata": {},
   "outputs": [],
   "source": [
    "number_number = float(number)"
   ]
  },
  {
   "cell_type": "code",
   "execution_count": 175,
   "metadata": {},
   "outputs": [
    {
     "data": {
      "text/plain": [
       "98.65"
      ]
     },
     "execution_count": 175,
     "metadata": {},
     "output_type": "execute_result"
    }
   ],
   "source": [
    "number_number"
   ]
  },
  {
   "cell_type": "code",
   "execution_count": 180,
   "metadata": {},
   "outputs": [
    {
     "data": {
      "text/plain": [
       "float"
      ]
     },
     "execution_count": 180,
     "metadata": {},
     "output_type": "execute_result"
    }
   ],
   "source": [
    "type(number_number)"
   ]
  },
  {
   "cell_type": "code",
   "execution_count": 215,
   "metadata": {},
   "outputs": [
    {
     "data": {
      "text/plain": [
       "array(['Face Serum', 'Moisturizer', 'Eye Cream',\n",
       "       'Sunscreen & After Sun Care', 'Face Mask', 'Cleanser',\n",
       "       'Decollete & Neck Cream', 'Face Oil', 'Facial Peel', 'Exfoliator',\n",
       "       'BB & CC Cream', 'Toner', 'Face Set', 'Anti-Aging',\n",
       "       'Facial Roller', 'Eye Mask', 'Face Wipe', 'Night Cream',\n",
       "       'Blemish & Acne Treatment', 'Face Tanner',\n",
       "       'Facial Cleansing Brush'], dtype=object)"
      ]
     },
     "execution_count": 215,
     "metadata": {},
     "output_type": "execute_result"
    }
   ],
   "source": [
    "data.Category.unique()"
   ]
  },
  {
   "cell_type": "code",
   "execution_count": 219,
   "metadata": {},
   "outputs": [
    {
     "data": {
      "text/plain": [
       "16.666666666666668"
      ]
     },
     "execution_count": 219,
     "metadata": {},
     "output_type": "execute_result"
    }
   ],
   "source": [
    "50/3"
   ]
  },
  {
   "cell_type": "code",
   "execution_count": 216,
   "metadata": {},
   "outputs": [
    {
     "data": {
      "text/plain": [
       "91.3"
      ]
     },
     "execution_count": 216,
     "metadata": {},
     "output_type": "execute_result"
    }
   ],
   "source": [
    "data[data.Category == 'Cleanser'].Price.max()"
   ]
  },
  {
   "cell_type": "code",
   "execution_count": 217,
   "metadata": {},
   "outputs": [
    {
     "data": {
      "text/plain": [
       "3.32"
      ]
     },
     "execution_count": 217,
     "metadata": {},
     "output_type": "execute_result"
    }
   ],
   "source": [
    "data[data.Category == 'Cleanser'].Price.min()"
   ]
  },
  {
   "cell_type": "code",
   "execution_count": 221,
   "metadata": {},
   "outputs": [
    {
     "data": {
      "text/plain": [
       "319.55"
      ]
     },
     "execution_count": 221,
     "metadata": {},
     "output_type": "execute_result"
    }
   ],
   "source": [
    "data[data.Category == 'Moisturizer'].Price.max()"
   ]
  },
  {
   "cell_type": "code",
   "execution_count": 222,
   "metadata": {},
   "outputs": [
    {
     "data": {
      "text/plain": [
       "4.14"
      ]
     },
     "execution_count": 222,
     "metadata": {},
     "output_type": "execute_result"
    }
   ],
   "source": [
    "data[data.Category == 'Moisturizer'].Price.min()"
   ]
  },
  {
   "cell_type": "code",
   "execution_count": 224,
   "metadata": {},
   "outputs": [
    {
     "data": {
      "text/plain": [
       "219.95"
      ]
     },
     "execution_count": 224,
     "metadata": {},
     "output_type": "execute_result"
    }
   ],
   "source": [
    "data[data.Category == 'Sunscreen & After Sun Care'].Price.max()"
   ]
  },
  {
   "cell_type": "code",
   "execution_count": 225,
   "metadata": {},
   "outputs": [
    {
     "data": {
      "text/plain": [
       "12.45"
      ]
     },
     "execution_count": 225,
     "metadata": {},
     "output_type": "execute_result"
    }
   ],
   "source": [
    "data[data.Category == 'Sunscreen & After Sun Care'].Price.min()"
   ]
  },
  {
   "cell_type": "code",
   "execution_count": null,
   "metadata": {},
   "outputs": [],
   "source": []
  }
 ],
 "metadata": {
  "kernelspec": {
   "display_name": "Python 3",
   "language": "python",
   "name": "python3"
  },
  "language_info": {
   "codemirror_mode": {
    "name": "ipython",
    "version": 3
   },
   "file_extension": ".py",
   "mimetype": "text/x-python",
   "name": "python",
   "nbconvert_exporter": "python",
   "pygments_lexer": "ipython3",
   "version": "3.8.0"
  }
 },
 "nbformat": 4,
 "nbformat_minor": 4
}
