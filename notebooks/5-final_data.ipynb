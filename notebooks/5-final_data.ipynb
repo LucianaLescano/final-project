{
 "cells": [
  {
   "cell_type": "code",
   "execution_count": 2,
   "metadata": {},
   "outputs": [],
   "source": [
    "import pandas as pd"
   ]
  },
  {
   "cell_type": "code",
   "execution_count": 3,
   "metadata": {},
   "outputs": [],
   "source": [
    "import sys"
   ]
  },
  {
   "cell_type": "code",
   "execution_count": 4,
   "metadata": {},
   "outputs": [],
   "source": [
    " %load_ext autoreload\n",
    "%autoreload 2"
   ]
  },
  {
   "cell_type": "code",
   "execution_count": 5,
   "metadata": {},
   "outputs": [],
   "source": [
    "sys.path.append('../src')"
   ]
  },
  {
   "cell_type": "code",
   "execution_count": 39,
   "metadata": {},
   "outputs": [],
   "source": [
    "from cleaning import concating_by_column, concating_by_row, new_index, rename_columns, order, droping_rows"
   ]
  },
  {
   "cell_type": "markdown",
   "metadata": {},
   "source": [
    "### Final Dataframes\n",
    "\n",
    "Joining all the dataset from scraping:"
   ]
  },
  {
   "cell_type": "code",
   "execution_count": 10,
   "metadata": {},
   "outputs": [],
   "source": [
    "one = pd.read_csv('../data/bs_skin_types_one.csv', index_col='Unnamed: 0')"
   ]
  },
  {
   "cell_type": "code",
   "execution_count": 11,
   "metadata": {},
   "outputs": [],
   "source": [
    "two = pd.read_csv('../data/bs_skin_types_two.csv', index_col='Unnamed: 0')"
   ]
  },
  {
   "cell_type": "code",
   "execution_count": 12,
   "metadata": {},
   "outputs": [],
   "source": [
    "three = pd.read_csv('../data/bs_skin_types_three.csv', index_col='Unnamed: 0')"
   ]
  },
  {
   "cell_type": "code",
   "execution_count": 13,
   "metadata": {},
   "outputs": [],
   "source": [
    "four = pd.read_csv('../data/bs_skin_types_four.csv', index_col='Unnamed: 0')"
   ]
  },
  {
   "cell_type": "code",
   "execution_count": 14,
   "metadata": {},
   "outputs": [],
   "source": [
    "five = pd.read_csv('../data/bs_skin_types_five.csv', index_col='Unnamed: 0')"
   ]
  },
  {
   "cell_type": "code",
   "execution_count": 15,
   "metadata": {},
   "outputs": [],
   "source": [
    "six = pd.read_csv('../data/bs_skin_types_six.csv', index_col='Unnamed: 0')"
   ]
  },
  {
   "cell_type": "code",
   "execution_count": 16,
   "metadata": {},
   "outputs": [],
   "source": [
    "seven = pd.read_csv('../data/bs_skin_types_seven.csv', index_col='Unnamed: 0')"
   ]
  },
  {
   "cell_type": "code",
   "execution_count": 17,
   "metadata": {},
   "outputs": [],
   "source": [
    "eight = pd.read_csv('../data/bs_skin_types_eight.csv', index_col='Unnamed: 0')"
   ]
  },
  {
   "cell_type": "code",
   "execution_count": 18,
   "metadata": {},
   "outputs": [],
   "source": [
    "nine = pd.read_csv('../data/bs_skin_types_nine.csv', index_col='Unnamed: 0')"
   ]
  },
  {
   "cell_type": "code",
   "execution_count": 19,
   "metadata": {},
   "outputs": [],
   "source": [
    "# Datasets to concat from scraping\n",
    "\n",
    "to_concating = [one, two, three, four, five, six, seven, eight, nine]"
   ]
  },
  {
   "cell_type": "code",
   "execution_count": 25,
   "metadata": {},
   "outputs": [],
   "source": [
    "# All datasets\n",
    "\n",
    "final = concating_by_row(to_concating)"
   ]
  },
  {
   "cell_type": "code",
   "execution_count": 27,
   "metadata": {},
   "outputs": [],
   "source": [
    "#  New index \n",
    "\n",
    "final = new_index(final)"
   ]
  },
  {
   "cell_type": "code",
   "execution_count": 29,
   "metadata": {},
   "outputs": [],
   "source": [
    "# Export\n",
    "\n",
    "final.to_csv('../data/skin_type_final.csv')"
   ]
  },
  {
   "cell_type": "code",
   "execution_count": 40,
   "metadata": {},
   "outputs": [],
   "source": [
    "# Importing the final dataset\n",
    "\n",
    "final_data = pd.read_csv('../data/skin_type_final_one.csv', index_col='Unnamed: 0')"
   ]
  },
  {
   "cell_type": "code",
   "execution_count": 41,
   "metadata": {},
   "outputs": [
    {
     "data": {
      "text/html": [
       "<div>\n",
       "<style scoped>\n",
       "    .dataframe tbody tr th:only-of-type {\n",
       "        vertical-align: middle;\n",
       "    }\n",
       "\n",
       "    .dataframe tbody tr th {\n",
       "        vertical-align: top;\n",
       "    }\n",
       "\n",
       "    .dataframe thead th {\n",
       "        text-align: right;\n",
       "    }\n",
       "</style>\n",
       "<table border=\"1\" class=\"dataframe\">\n",
       "  <thead>\n",
       "    <tr style=\"text-align: right;\">\n",
       "      <th></th>\n",
       "      <th>col</th>\n",
       "    </tr>\n",
       "  </thead>\n",
       "  <tbody>\n",
       "    <tr>\n",
       "      <th>995</th>\n",
       "      <td>ERROR</td>\n",
       "    </tr>\n",
       "  </tbody>\n",
       "</table>\n",
       "</div>"
      ],
      "text/plain": [
       "       col\n",
       "995  ERROR"
      ]
     },
     "execution_count": 41,
     "metadata": {},
     "output_type": "execute_result"
    }
   ],
   "source": [
    "# Looking for an ERROR\n",
    "\n",
    "final_data[final_data.col == 'ERROR']"
   ]
  },
  {
   "cell_type": "code",
   "execution_count": 43,
   "metadata": {},
   "outputs": [],
   "source": [
    "# Droping that row\n",
    "\n",
    "final_data = droping_rows(final_data, [995])"
   ]
  },
  {
   "cell_type": "code",
   "execution_count": 44,
   "metadata": {},
   "outputs": [
    {
     "data": {
      "text/html": [
       "<div>\n",
       "<style scoped>\n",
       "    .dataframe tbody tr th:only-of-type {\n",
       "        vertical-align: middle;\n",
       "    }\n",
       "\n",
       "    .dataframe tbody tr th {\n",
       "        vertical-align: top;\n",
       "    }\n",
       "\n",
       "    .dataframe thead th {\n",
       "        text-align: right;\n",
       "    }\n",
       "</style>\n",
       "<table border=\"1\" class=\"dataframe\">\n",
       "  <thead>\n",
       "    <tr style=\"text-align: right;\">\n",
       "      <th></th>\n",
       "      <th>col</th>\n",
       "    </tr>\n",
       "  </thead>\n",
       "  <tbody>\n",
       "  </tbody>\n",
       "</table>\n",
       "</div>"
      ],
      "text/plain": [
       "Empty DataFrame\n",
       "Columns: [col]\n",
       "Index: []"
      ]
     },
     "execution_count": 44,
     "metadata": {},
     "output_type": "execute_result"
    }
   ],
   "source": [
    "# Looking for an ERROR ---> Not there anymore\n",
    "\n",
    "final_data[final_data.col == 'ERROR']"
   ]
  },
  {
   "cell_type": "code",
   "execution_count": 46,
   "metadata": {},
   "outputs": [],
   "source": [
    "# Regex to replace values\n",
    "\n",
    "final_data =  final_data.replace( to_replace=r',.and', value= ',', regex=True)"
   ]
  },
  {
   "cell_type": "code",
   "execution_count": 47,
   "metadata": {},
   "outputs": [],
   "source": [
    "# Regex to replace values\n",
    "\n",
    "final_data = final_data.replace( to_replace=r'.and', value= ',', regex=True)"
   ]
  },
  {
   "cell_type": "code",
   "execution_count": 74,
   "metadata": {},
   "outputs": [],
   "source": [
    "# Export\n",
    "\n",
    "final_data.to_csv('../data/final_data.csv')"
   ]
  },
  {
   "cell_type": "markdown",
   "metadata": {},
   "source": [
    "### Final dataset\n",
    "\n",
    "Joining the previous datasets with the original one"
   ]
  },
  {
   "cell_type": "code",
   "execution_count": 75,
   "metadata": {},
   "outputs": [],
   "source": [
    "original = pd.read_csv('../data/clean_data.csv', index_col='Unnamed: 0')"
   ]
  },
  {
   "cell_type": "code",
   "execution_count": 76,
   "metadata": {},
   "outputs": [],
   "source": [
    "# Dataset to concat\n",
    "\n",
    "to_concat_final = [original, final_data]"
   ]
  },
  {
   "cell_type": "code",
   "execution_count": 77,
   "metadata": {},
   "outputs": [],
   "source": [
    "final_dataset  =concating_by_column(to_concat_final)"
   ]
  },
  {
   "cell_type": "code",
   "execution_count": 82,
   "metadata": {},
   "outputs": [],
   "source": [
    "# Rename columns\n",
    "\n",
    "names = {'Brand':'Brand',\n",
    "         'Category':'Category',\n",
    "         'Name': 'Name',\n",
    "         'Rating':'Rating',\n",
    "         'Price':'Price',\n",
    "         'URL':'URL',\n",
    "         'Ingredients':'Ingredients',\n",
    "         'col': 'Skin_Type'\n",
    "}"
   ]
  },
  {
   "cell_type": "code",
   "execution_count": 83,
   "metadata": {},
   "outputs": [],
   "source": [
    "final_dataset = rename_columns(final_dataset, names)"
   ]
  },
  {
   "cell_type": "code",
   "execution_count": 85,
   "metadata": {},
   "outputs": [],
   "source": [
    "# New order for columns\n",
    "\n",
    "columns = ['Brand', 'Category', 'Name', 'Skin_Type', 'Ingredients', 'URL', 'Price', 'Rating']"
   ]
  },
  {
   "cell_type": "code",
   "execution_count": 86,
   "metadata": {},
   "outputs": [],
   "source": [
    "final_dataset = order(final_dataset, columns)"
   ]
  },
  {
   "cell_type": "code",
   "execution_count": 88,
   "metadata": {},
   "outputs": [],
   "source": [
    "# Export\n",
    "\n",
    "final_dataset.to_csv('../data/final_dataset_to_mongo.csv')"
   ]
  },
  {
   "cell_type": "code",
   "execution_count": 89,
   "metadata": {},
   "outputs": [
    {
     "data": {
      "text/html": [
       "<div>\n",
       "<style scoped>\n",
       "    .dataframe tbody tr th:only-of-type {\n",
       "        vertical-align: middle;\n",
       "    }\n",
       "\n",
       "    .dataframe tbody tr th {\n",
       "        vertical-align: top;\n",
       "    }\n",
       "\n",
       "    .dataframe thead th {\n",
       "        text-align: right;\n",
       "    }\n",
       "</style>\n",
       "<table border=\"1\" class=\"dataframe\">\n",
       "  <thead>\n",
       "    <tr style=\"text-align: right;\">\n",
       "      <th></th>\n",
       "      <th>Brand</th>\n",
       "      <th>Category</th>\n",
       "      <th>Name</th>\n",
       "      <th>Skin_Type</th>\n",
       "      <th>Ingredients</th>\n",
       "      <th>URL</th>\n",
       "      <th>Price</th>\n",
       "      <th>Rating</th>\n",
       "    </tr>\n",
       "  </thead>\n",
       "  <tbody>\n",
       "    <tr>\n",
       "      <th>0</th>\n",
       "      <td>Algenist</td>\n",
       "      <td>Face Serum</td>\n",
       "      <td>GENIUS Liquid Collagen</td>\n",
       "      <td>Normal, Dry, Combination, Oily</td>\n",
       "      <td>-Patented Alguronic Acid: Naturally sourced a...</td>\n",
       "      <td>https://www.sephora.com/product/genius-liquid-...</td>\n",
       "      <td>95.45</td>\n",
       "      <td>4.0</td>\n",
       "    </tr>\n",
       "    <tr>\n",
       "      <th>1</th>\n",
       "      <td>Algenist</td>\n",
       "      <td>Moisturizer</td>\n",
       "      <td>GENIUS Sleeping Collagen</td>\n",
       "      <td>Normal, Dry, Combination, Oily</td>\n",
       "      <td>-Patented Alguronic Acid: Naturally sourced a...</td>\n",
       "      <td>https://www.sephora.com/product/genius-sleepin...</td>\n",
       "      <td>81.34</td>\n",
       "      <td>4.5</td>\n",
       "    </tr>\n",
       "    <tr>\n",
       "      <th>2</th>\n",
       "      <td>Algenist</td>\n",
       "      <td>Moisturizer</td>\n",
       "      <td>GENIUS Ultimate Anti-Aging Cream</td>\n",
       "      <td>Normal, Dry, Combination, Oily</td>\n",
       "      <td>-Patented Alguronic Acid: Naturally sourced a...</td>\n",
       "      <td>https://www.sephora.com/product/genius-ultimat...</td>\n",
       "      <td>92.96</td>\n",
       "      <td>4.5</td>\n",
       "    </tr>\n",
       "    <tr>\n",
       "      <th>3</th>\n",
       "      <td>Algenist</td>\n",
       "      <td>Eye Cream</td>\n",
       "      <td>Complete Eye Renewal Balm</td>\n",
       "      <td>Normal, Dry, Combination, Oily</td>\n",
       "      <td>-Patented Alguronic Acid: Visibly minimizes t...</td>\n",
       "      <td>https://www.sephora.com/product/complete-eye-r...</td>\n",
       "      <td>56.44</td>\n",
       "      <td>4.0</td>\n",
       "    </tr>\n",
       "    <tr>\n",
       "      <th>4</th>\n",
       "      <td>Algenist</td>\n",
       "      <td>Sunscreen &amp; After Sun Care</td>\n",
       "      <td>SUBLIME DEFENSE Ultra Lightweight UV Defense F...</td>\n",
       "      <td>Normal, Dry, Combination, Oily</td>\n",
       "      <td>-Patented Alguronic Acid: Helps minimize the ...</td>\n",
       "      <td>https://www.sephora.com/product/sublime-defens...</td>\n",
       "      <td>23.24</td>\n",
       "      <td>4.5</td>\n",
       "    </tr>\n",
       "    <tr>\n",
       "      <th>...</th>\n",
       "      <td>...</td>\n",
       "      <td>...</td>\n",
       "      <td>...</td>\n",
       "      <td>...</td>\n",
       "      <td>...</td>\n",
       "      <td>...</td>\n",
       "      <td>...</td>\n",
       "      <td>...</td>\n",
       "    </tr>\n",
       "    <tr>\n",
       "      <th>2342</th>\n",
       "      <td>SEPHORA COLLECTION</td>\n",
       "      <td>Cleanser</td>\n",
       "      <td>Supreme Cleansing Oil</td>\n",
       "      <td>Normal, Dry, Combination, Oily</td>\n",
       "      <td>-Cottonseed Oil: Nourishes and provides smoot...</td>\n",
       "      <td>https://www.sephora.com/product/supreme-cleans...</td>\n",
       "      <td>12.45</td>\n",
       "      <td>4.5</td>\n",
       "    </tr>\n",
       "    <tr>\n",
       "      <th>2343</th>\n",
       "      <td>SEPHORA COLLECTION</td>\n",
       "      <td>Exfoliator</td>\n",
       "      <td>Sugar Body Scrub</td>\n",
       "      <td>Normal, Dry, Combination, Oily</td>\n",
       "      <td>-Brown Sugar from Natural Origin: Known to gen...</td>\n",
       "      <td>https://www.sephora.com/product/sephora-collec...</td>\n",
       "      <td>14.11</td>\n",
       "      <td>4.0</td>\n",
       "    </tr>\n",
       "    <tr>\n",
       "      <th>2344</th>\n",
       "      <td>SEPHORA COLLECTION</td>\n",
       "      <td>Exfoliator</td>\n",
       "      <td>Exfoliating Body Granita Scrub - Surprise Flowers</td>\n",
       "      <td>Normal, Dry, Combination, Oily</td>\n",
       "      <td>Water- Glycerin- Cellulose Acetate- Sodium Lau...</td>\n",
       "      <td>https://www.sephora.com/product/exfoliating-bo...</td>\n",
       "      <td>6.64</td>\n",
       "      <td>3.5</td>\n",
       "    </tr>\n",
       "    <tr>\n",
       "      <th>2345</th>\n",
       "      <td>SEPHORA COLLECTION</td>\n",
       "      <td>Face Mask</td>\n",
       "      <td>The Rose Gold Mask</td>\n",
       "      <td>Normal, Dry, Combination, Oily</td>\n",
       "      <td>-Rose Quartz Extract: Hydrates dry skin.  Aqua...</td>\n",
       "      <td>https://www.sephora.com/product/the-rose-gold-...</td>\n",
       "      <td>4.98</td>\n",
       "      <td>2.0</td>\n",
       "    </tr>\n",
       "    <tr>\n",
       "      <th>2346</th>\n",
       "      <td>SEPHORA COLLECTION</td>\n",
       "      <td>Moisturizer</td>\n",
       "      <td>Weekend Warrior Tone Up Cream</td>\n",
       "      <td>Normal, Dry, Combination, Oily</td>\n",
       "      <td>Aqua (Water)- Dimethicone- Isohexadecane- Poly...</td>\n",
       "      <td>https://www.sephora.com/product/sephora-collec...</td>\n",
       "      <td>13.28</td>\n",
       "      <td>0.0</td>\n",
       "    </tr>\n",
       "  </tbody>\n",
       "</table>\n",
       "<p>2347 rows × 8 columns</p>\n",
       "</div>"
      ],
      "text/plain": [
       "                   Brand                    Category  \\\n",
       "0               Algenist                  Face Serum   \n",
       "1               Algenist                 Moisturizer   \n",
       "2               Algenist                 Moisturizer   \n",
       "3               Algenist                   Eye Cream   \n",
       "4               Algenist  Sunscreen & After Sun Care   \n",
       "...                  ...                         ...   \n",
       "2342  SEPHORA COLLECTION                    Cleanser   \n",
       "2343  SEPHORA COLLECTION                  Exfoliator   \n",
       "2344  SEPHORA COLLECTION                  Exfoliator   \n",
       "2345  SEPHORA COLLECTION                   Face Mask   \n",
       "2346  SEPHORA COLLECTION                 Moisturizer   \n",
       "\n",
       "                                                   Name  \\\n",
       "0                                GENIUS Liquid Collagen   \n",
       "1                              GENIUS Sleeping Collagen   \n",
       "2                      GENIUS Ultimate Anti-Aging Cream   \n",
       "3                             Complete Eye Renewal Balm   \n",
       "4     SUBLIME DEFENSE Ultra Lightweight UV Defense F...   \n",
       "...                                                 ...   \n",
       "2342                              Supreme Cleansing Oil   \n",
       "2343                                   Sugar Body Scrub   \n",
       "2344  Exfoliating Body Granita Scrub - Surprise Flowers   \n",
       "2345                                 The Rose Gold Mask   \n",
       "2346                      Weekend Warrior Tone Up Cream   \n",
       "\n",
       "                            Skin_Type  \\\n",
       "0     Normal, Dry, Combination, Oily    \n",
       "1     Normal, Dry, Combination, Oily    \n",
       "2     Normal, Dry, Combination, Oily    \n",
       "3     Normal, Dry, Combination, Oily    \n",
       "4     Normal, Dry, Combination, Oily    \n",
       "...                               ...   \n",
       "2342  Normal, Dry, Combination, Oily    \n",
       "2343  Normal, Dry, Combination, Oily    \n",
       "2344  Normal, Dry, Combination, Oily    \n",
       "2345  Normal, Dry, Combination, Oily    \n",
       "2346  Normal, Dry, Combination, Oily    \n",
       "\n",
       "                                            Ingredients  \\\n",
       "0      -Patented Alguronic Acid: Naturally sourced a...   \n",
       "1      -Patented Alguronic Acid: Naturally sourced a...   \n",
       "2      -Patented Alguronic Acid: Naturally sourced a...   \n",
       "3      -Patented Alguronic Acid: Visibly minimizes t...   \n",
       "4      -Patented Alguronic Acid: Helps minimize the ...   \n",
       "...                                                 ...   \n",
       "2342   -Cottonseed Oil: Nourishes and provides smoot...   \n",
       "2343  -Brown Sugar from Natural Origin: Known to gen...   \n",
       "2344  Water- Glycerin- Cellulose Acetate- Sodium Lau...   \n",
       "2345  -Rose Quartz Extract: Hydrates dry skin.  Aqua...   \n",
       "2346  Aqua (Water)- Dimethicone- Isohexadecane- Poly...   \n",
       "\n",
       "                                                    URL  Price  Rating  \n",
       "0     https://www.sephora.com/product/genius-liquid-...  95.45     4.0  \n",
       "1     https://www.sephora.com/product/genius-sleepin...  81.34     4.5  \n",
       "2     https://www.sephora.com/product/genius-ultimat...  92.96     4.5  \n",
       "3     https://www.sephora.com/product/complete-eye-r...  56.44     4.0  \n",
       "4     https://www.sephora.com/product/sublime-defens...  23.24     4.5  \n",
       "...                                                 ...    ...     ...  \n",
       "2342  https://www.sephora.com/product/supreme-cleans...  12.45     4.5  \n",
       "2343  https://www.sephora.com/product/sephora-collec...  14.11     4.0  \n",
       "2344  https://www.sephora.com/product/exfoliating-bo...   6.64     3.5  \n",
       "2345  https://www.sephora.com/product/the-rose-gold-...   4.98     2.0  \n",
       "2346  https://www.sephora.com/product/sephora-collec...  13.28     0.0  \n",
       "\n",
       "[2347 rows x 8 columns]"
      ]
     },
     "execution_count": 89,
     "metadata": {},
     "output_type": "execute_result"
    }
   ],
   "source": [
    "final_dataset"
   ]
  }
 ],
 "metadata": {
  "kernelspec": {
   "display_name": "Python 3",
   "language": "python",
   "name": "python3"
  },
  "language_info": {
   "codemirror_mode": {
    "name": "ipython",
    "version": 3
   },
   "file_extension": ".py",
   "mimetype": "text/x-python",
   "name": "python",
   "nbconvert_exporter": "python",
   "pygments_lexer": "ipython3",
   "version": "3.8.0"
  }
 },
 "nbformat": 4,
 "nbformat_minor": 4
}
