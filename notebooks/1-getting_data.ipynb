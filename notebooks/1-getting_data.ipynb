{
 "cells": [
  {
   "cell_type": "code",
   "execution_count": 1,
   "metadata": {},
   "outputs": [],
   "source": [
    "import pandas as pd\n",
    "import sys"
   ]
  },
  {
   "cell_type": "code",
   "execution_count": 2,
   "metadata": {},
   "outputs": [],
   "source": [
    "%load_ext autoreload\n",
    "%autoreload 2"
   ]
  },
  {
   "cell_type": "code",
   "execution_count": 3,
   "metadata": {},
   "outputs": [],
   "source": [
    "sys.path.append('../src')"
   ]
  },
  {
   "cell_type": "code",
   "execution_count": 29,
   "metadata": {},
   "outputs": [],
   "source": [
    "from cleaning import droping_columns, sort_by_elements, new_index"
   ]
  },
  {
   "cell_type": "markdown",
   "metadata": {},
   "source": [
    "# Data\n",
    "\n",
    "#### First dataset"
   ]
  },
  {
   "cell_type": "code",
   "execution_count": 5,
   "metadata": {},
   "outputs": [
    {
     "name": "stdout",
     "output_type": "stream",
     "text": [
      "Warning: Your Kaggle API key is readable by other users on this system! To fix this, you can run 'chmod 600 /Users/lucianalescano/.kaggle/kaggle.json'\n",
      "Downloading skincare-products-and-their-ingredients.zip to /Users/lucianalescano/Ironhack/Meanwhile/final-project/notebooks\n",
      "  0%|                                                | 0.00/182k [00:00<?, ?B/s]\n",
      "100%|████████████████████████████████████████| 182k/182k [00:00<00:00, 9.61MB/s]\n"
     ]
    }
   ],
   "source": [
    "!kaggle datasets download -d eward96/skincare-products-and-their-ingredients"
   ]
  },
  {
   "cell_type": "code",
   "execution_count": 6,
   "metadata": {},
   "outputs": [
    {
     "name": "stdout",
     "output_type": "stream",
     "text": [
      "x skincare_products.csv\n"
     ]
    }
   ],
   "source": [
    "!tar -xzvf skincare-products-and-their-ingredients.zip"
   ]
  },
  {
   "cell_type": "code",
   "execution_count": 7,
   "metadata": {},
   "outputs": [],
   "source": [
    "!mv ../notebooks/skincare_products.csv ../data/skincare_products.csv"
   ]
  },
  {
   "cell_type": "code",
   "execution_count": 8,
   "metadata": {},
   "outputs": [],
   "source": [
    "!rm skincare-products-and-their-ingredients.zip"
   ]
  },
  {
   "cell_type": "code",
   "execution_count": 9,
   "metadata": {},
   "outputs": [],
   "source": [
    "first = pd .read_csv('../data/skincare_products.csv')"
   ]
  },
  {
   "cell_type": "markdown",
   "metadata": {},
   "source": [
    "#### Second dataset "
   ]
  },
  {
   "cell_type": "code",
   "execution_count": 10,
   "metadata": {},
   "outputs": [
    {
     "name": "stdout",
     "output_type": "stream",
     "text": [
      "Warning: Your Kaggle API key is readable by other users on this system! To fix this, you can run 'chmod 600 /Users/lucianalescano/.kaggle/kaggle.json'\n",
      "Downloading all-products-available-on-sephora-website.zip to /Users/lucianalescano/Ironhack/Meanwhile/final-project/notebooks\n",
      " 86%|████████████████████████████████▊     | 4.00M/4.64M [00:00<00:00, 4.62MB/s]\n",
      "100%|██████████████████████████████████████| 4.64M/4.64M [00:00<00:00, 4.91MB/s]\n"
     ]
    }
   ],
   "source": [
    "!kaggle datasets download -d raghadalharbi/all-products-available-on-sephora-website"
   ]
  },
  {
   "cell_type": "code",
   "execution_count": 11,
   "metadata": {},
   "outputs": [
    {
     "name": "stdout",
     "output_type": "stream",
     "text": [
      "x sephora_website_dataset.csv\n"
     ]
    }
   ],
   "source": [
    "!tar -xzvf all-products-available-on-sephora-website.zip"
   ]
  },
  {
   "cell_type": "code",
   "execution_count": 12,
   "metadata": {},
   "outputs": [],
   "source": [
    "!mv ../notebooks/sephora_website_dataset.csv ../data/sephora_website_dataset.csv"
   ]
  },
  {
   "cell_type": "code",
   "execution_count": 13,
   "metadata": {},
   "outputs": [],
   "source": [
    "!rm all-products-available-on-sephora-website.zip"
   ]
  },
  {
   "cell_type": "code",
   "execution_count": 134,
   "metadata": {},
   "outputs": [],
   "source": [
    "second = pd.read_csv('../data/sephora_website_dataset.csv')"
   ]
  },
  {
   "cell_type": "markdown",
   "metadata": {},
   "source": [
    "#### Third dataset "
   ]
  },
  {
   "cell_type": "code",
   "execution_count": 15,
   "metadata": {},
   "outputs": [],
   "source": [
    "third = pd.read_csv('../data/AB1.csv', usecols=['brand', 'product_name', 'ingredients'])"
   ]
  },
  {
   "cell_type": "markdown",
   "metadata": {},
   "source": [
    "#### Fourth dataset "
   ]
  },
  {
   "cell_type": "code",
   "execution_count": 16,
   "metadata": {},
   "outputs": [],
   "source": [
    "fourth = pd.read_csv('../data/AB2.csv', usecols=['brand', 'product_name', 'ingredients'])"
   ]
  },
  {
   "cell_type": "markdown",
   "metadata": {},
   "source": [
    "#### Fifth dataset "
   ]
  },
  {
   "cell_type": "code",
   "execution_count": 17,
   "metadata": {},
   "outputs": [],
   "source": [
    "fifth = pd.read_csv('../data/Prod1.csv', usecols=['brand', 'product_name', 'ingredients'])"
   ]
  },
  {
   "cell_type": "markdown",
   "metadata": {},
   "source": [
    "#### Sixth dataset "
   ]
  },
  {
   "cell_type": "code",
   "execution_count": 18,
   "metadata": {},
   "outputs": [],
   "source": [
    "sixth = pd.read_csv('../data/Prod2.csv', usecols=['brand', 'product_name', 'ingredients'])"
   ]
  },
  {
   "cell_type": "markdown",
   "metadata": {},
   "source": [
    "#### Seventh dataset "
   ]
  },
  {
   "cell_type": "code",
   "execution_count": 19,
   "metadata": {},
   "outputs": [],
   "source": [
    "seventh = pd.read_csv('../data/red1.csv', usecols=['brand', 'product_name', 'ingredients'])"
   ]
  },
  {
   "cell_type": "markdown",
   "metadata": {},
   "source": [
    "# Cleaning"
   ]
  },
  {
   "cell_type": "code",
   "execution_count": 20,
   "metadata": {},
   "outputs": [
    {
     "data": {
      "text/html": [
       "<div>\n",
       "<style scoped>\n",
       "    .dataframe tbody tr th:only-of-type {\n",
       "        vertical-align: middle;\n",
       "    }\n",
       "\n",
       "    .dataframe tbody tr th {\n",
       "        vertical-align: top;\n",
       "    }\n",
       "\n",
       "    .dataframe thead th {\n",
       "        text-align: right;\n",
       "    }\n",
       "</style>\n",
       "<table border=\"1\" class=\"dataframe\">\n",
       "  <thead>\n",
       "    <tr style=\"text-align: right;\">\n",
       "      <th></th>\n",
       "      <th>product_name</th>\n",
       "      <th>product_url</th>\n",
       "      <th>product_type</th>\n",
       "      <th>ingredients</th>\n",
       "      <th>price</th>\n",
       "    </tr>\n",
       "  </thead>\n",
       "  <tbody>\n",
       "    <tr>\n",
       "      <th>0</th>\n",
       "      <td>The Ordinary Natural Moisturising Factors + HA...</td>\n",
       "      <td>https://www.lookfantastic.com/the-ordinary-nat...</td>\n",
       "      <td>Moisturiser</td>\n",
       "      <td>Aqua (Water), Caprylic/Capric Triglyceride, Ce...</td>\n",
       "      <td>£5.20</td>\n",
       "    </tr>\n",
       "    <tr>\n",
       "      <th>1</th>\n",
       "      <td>CeraVe Facial Moisturising Lotion SPF 25 52ml</td>\n",
       "      <td>https://www.lookfantastic.com/cerave-facial-mo...</td>\n",
       "      <td>Moisturiser</td>\n",
       "      <td>Aqua/Water, Homosalate, Glycerin, Octocrylene,...</td>\n",
       "      <td>£13.00</td>\n",
       "    </tr>\n",
       "    <tr>\n",
       "      <th>2</th>\n",
       "      <td>The Ordinary Hyaluronic Acid 2% + B5 Hydration...</td>\n",
       "      <td>https://www.lookfantastic.com/the-ordinary-hya...</td>\n",
       "      <td>Moisturiser</td>\n",
       "      <td>Aqua (Water), Sodium Hyaluronate, Sodium Hyalu...</td>\n",
       "      <td>£6.20</td>\n",
       "    </tr>\n",
       "    <tr>\n",
       "      <th>3</th>\n",
       "      <td>AMELIORATE Transforming Body Lotion 200ml</td>\n",
       "      <td>https://www.lookfantastic.com/ameliorate-trans...</td>\n",
       "      <td>Moisturiser</td>\n",
       "      <td>Aqua/Water/Eau, Ammonium Lactate, C12-15 Alkyl...</td>\n",
       "      <td>£22.50</td>\n",
       "    </tr>\n",
       "    <tr>\n",
       "      <th>4</th>\n",
       "      <td>CeraVe Moisturising Cream 454g</td>\n",
       "      <td>https://www.lookfantastic.com/cerave-moisturis...</td>\n",
       "      <td>Moisturiser</td>\n",
       "      <td>Purified Water, Glycerin, Ceteareth-20 and Cet...</td>\n",
       "      <td>£16.00</td>\n",
       "    </tr>\n",
       "  </tbody>\n",
       "</table>\n",
       "</div>"
      ],
      "text/plain": [
       "                                        product_name  \\\n",
       "0  The Ordinary Natural Moisturising Factors + HA...   \n",
       "1      CeraVe Facial Moisturising Lotion SPF 25 52ml   \n",
       "2  The Ordinary Hyaluronic Acid 2% + B5 Hydration...   \n",
       "3          AMELIORATE Transforming Body Lotion 200ml   \n",
       "4                     CeraVe Moisturising Cream 454g   \n",
       "\n",
       "                                         product_url product_type  \\\n",
       "0  https://www.lookfantastic.com/the-ordinary-nat...  Moisturiser   \n",
       "1  https://www.lookfantastic.com/cerave-facial-mo...  Moisturiser   \n",
       "2  https://www.lookfantastic.com/the-ordinary-hya...  Moisturiser   \n",
       "3  https://www.lookfantastic.com/ameliorate-trans...  Moisturiser   \n",
       "4  https://www.lookfantastic.com/cerave-moisturis...  Moisturiser   \n",
       "\n",
       "                                         ingredients   price  \n",
       "0  Aqua (Water), Caprylic/Capric Triglyceride, Ce...   £5.20  \n",
       "1  Aqua/Water, Homosalate, Glycerin, Octocrylene,...  £13.00  \n",
       "2  Aqua (Water), Sodium Hyaluronate, Sodium Hyalu...   £6.20  \n",
       "3  Aqua/Water/Eau, Ammonium Lactate, C12-15 Alkyl...  £22.50  \n",
       "4  Purified Water, Glycerin, Ceteareth-20 and Cet...  £16.00  "
      ]
     },
     "execution_count": 20,
     "metadata": {},
     "output_type": "execute_result"
    }
   ],
   "source": [
    "first.head()"
   ]
  },
  {
   "cell_type": "markdown",
   "metadata": {},
   "source": [
    "#### Second dataset "
   ]
  },
  {
   "cell_type": "code",
   "execution_count": 135,
   "metadata": {},
   "outputs": [],
   "source": [
    "to_drop_second = ['id', 'size', 'number_of_reviews', 'love', 'value_price', 'MarketingFlags', 'MarketingFlags_content', 'options', 'details', 'how_to_use', 'online_only', 'exclusive', 'limited_edition', 'limited_time_offer']"
   ]
  },
  {
   "cell_type": "code",
   "execution_count": 136,
   "metadata": {},
   "outputs": [],
   "source": [
    "second = droping_columns(second, to_drop_second)"
   ]
  },
  {
   "cell_type": "code",
   "execution_count": 137,
   "metadata": {
    "slideshow": {
     "slide_type": "-"
    }
   },
   "outputs": [],
   "source": [
    "to_stay = ['Lip Balm & Treatment', 'Face Serums', 'Moisturizers', 'Eye Creams & Treatments', 'Face Sunscreen', 'Lip Balms & Treatments', 'Face Masks', 'Face Wash & Cleansers', 'Decollete & Neck Creams', 'Face Oils', 'Tinted Moisturizer', 'Facial Peels', 'Exfoliators', 'BB & CC Cream', 'Toners', 'Sheet Masks', 'Skincare', 'Face Wash', 'Skincare Sets', 'Moisturizer & Treatments', 'Eye Cream', 'Sunscreen', 'Face Sets', 'Anti-Aging', 'Facial Rollers', 'Eye Masks', 'Face Wipes', 'Night Creams', 'Blemish & Acne Treatments', 'Scrub & Exfoliants', 'For Face', 'Facial Cleansing Brushes', 'BB & CC Creams', 'After Sun Care', 'Lip Sunscreen', 'Lip Treatments']"
   ]
  },
  {
   "cell_type": "code",
   "execution_count": 138,
   "metadata": {},
   "outputs": [],
   "source": [
    "second = sort_by_elements(second, second.category, to_stay)"
   ]
  },
  {
   "cell_type": "code",
   "execution_count": 139,
   "metadata": {},
   "outputs": [],
   "source": [
    "second = new_index(second)"
   ]
  },
  {
   "cell_type": "code",
   "execution_count": 97,
   "metadata": {},
   "outputs": [],
   "source": [
    "allowed = {'After Sun Care':'Sunscreen & After Sun Care',\n",
    "         'Anti-Aging':'Anti-Aging',\n",
    "         'BB & CC Cream':'BB & CC Cream',\n",
    "         'BB & CC Creams':'BB & CC Cream',\n",
    "         'Blemish & Acne Treatments':'Blemish & Acne Treatment',\n",
    "         'Decollete & Neck Creams':'Decollete & Neck Cream',\n",
    "         'Exfoliators':'Exfoliator',\n",
    "         'Eye Cream':'Eye Cream',\n",
    "         'Eye Creams & Treatments':'Eye Cream',\n",
    "         'Eye Masks':'Eye Mask',\n",
    "         'Face Masks':'Face Mask',\n",
    "         'Face Oils':'Face Oil',\n",
    "         'Face Serums':'Face Serum',\n",
    "         'Face Sets':'Face Set',\n",
    "         'Face Sunscreen':'Sunscreen & After Sun Care',\n",
    "         'Face Wash':'Cleanser',\n",
    "         'Face Wash & Cleansers':'Cleanser',\n",
    "         'Face Wipes':'Face Wipe',\n",
    "         'Facial Cleansing Brushes':'Facial Cleansing Brush',\n",
    "         'Facial Peels':'Facial Peel',\n",
    "         'Facial Rollers':'Facial Roller',\n",
    "         'For Face':'ONE',\n",
    "         'Lip Balm & Treatment':'Lip Balm & Treatment',\n",
    "         'Lip Balms & Treatments':'Lip Balm & Treatment',\n",
    "         'Lip Sunscreen':'Lip Sunscreen',\n",
    "         'Lip Treatments':'Lip Balm & Treatment',\n",
    "         'Moisturizer & Treatments':'Moisturizer',\n",
    "         'Moisturizers':'Moisturizer',\n",
    "         'Night Creams':'Night Cream',\n",
    "         'Scrub & Exfoliants':'Exfoliator',\n",
    "         'Sheet Masks':'Face Mask',\n",
    "         'Skincare':'ONE',\n",
    "         'Skincare Sets':'ONE',\n",
    "         'Sunscreen':'Sunscreen & After Sun Care',\n",
    "         'Tinted Moisturizer':'Moisturizer',\n",
    "         'Toners':'Toner',\n",
    "          }"
   ]
  }
 ],
 "metadata": {
  "kernelspec": {
   "display_name": "Python 3",
   "language": "python",
   "name": "python3"
  },
  "language_info": {
   "codemirror_mode": {
    "name": "ipython",
    "version": 3
   },
   "file_extension": ".py",
   "mimetype": "text/x-python",
   "name": "python",
   "nbconvert_exporter": "python",
   "pygments_lexer": "ipython3",
   "version": "3.8.0"
  }
 },
 "nbformat": 4,
 "nbformat_minor": 4
}
