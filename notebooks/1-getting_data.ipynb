{
 "cells": [
  {
   "cell_type": "code",
   "execution_count": 3,
   "metadata": {},
   "outputs": [],
   "source": [
    "import pandas as pd\n",
    "import sys"
   ]
  },
  {
   "cell_type": "code",
   "execution_count": 4,
   "metadata": {},
   "outputs": [],
   "source": [
    "%load_ext autoreload\n",
    "%autoreload 2"
   ]
  },
  {
   "cell_type": "code",
   "execution_count": 5,
   "metadata": {},
   "outputs": [],
   "source": [
    "sys.path.append('../src')"
   ]
  },
  {
   "cell_type": "code",
   "execution_count": 184,
   "metadata": {},
   "outputs": [],
   "source": [
    "from cleaning import droping_columns, sort_by_elements, re_label, new_index, rename_columns, order"
   ]
  },
  {
   "cell_type": "markdown",
   "metadata": {},
   "source": [
    "# Data\n",
    "\n",
    "#### First dataset"
   ]
  },
  {
   "cell_type": "code",
   "execution_count": 7,
   "metadata": {},
   "outputs": [
    {
     "name": "stdout",
     "output_type": "stream",
     "text": [
      "Warning: Your Kaggle API key is readable by other users on this system! To fix this, you can run 'chmod 600 /Users/lucianalescano/.kaggle/kaggle.json'\n",
      "Downloading skincare-products-and-their-ingredients.zip to /Users/lucianalescano/Ironhack/Meanwhile/final-project/notebooks\n",
      "100%|█████████████████████████████████████████| 182k/182k [00:00<00:00, 642kB/s]\n",
      "100%|█████████████████████████████████████████| 182k/182k [00:00<00:00, 640kB/s]\n"
     ]
    }
   ],
   "source": [
    "!kaggle datasets download -d eward96/skincare-products-and-their-ingredients"
   ]
  },
  {
   "cell_type": "code",
   "execution_count": 8,
   "metadata": {},
   "outputs": [
    {
     "name": "stdout",
     "output_type": "stream",
     "text": [
      "x skincare_products.csv\r\n"
     ]
    }
   ],
   "source": [
    "!tar -xzvf skincare-products-and-their-ingredients.zip"
   ]
  },
  {
   "cell_type": "code",
   "execution_count": 9,
   "metadata": {},
   "outputs": [],
   "source": [
    "!mv ../notebooks/skincare_products.csv ../data/skincare_products.csv"
   ]
  },
  {
   "cell_type": "code",
   "execution_count": 10,
   "metadata": {},
   "outputs": [],
   "source": [
    "!rm skincare-products-and-their-ingredients.zip"
   ]
  },
  {
   "cell_type": "code",
   "execution_count": 11,
   "metadata": {},
   "outputs": [],
   "source": [
    "first = pd .read_csv('../data/skincare_products.csv')"
   ]
  },
  {
   "cell_type": "markdown",
   "metadata": {},
   "source": [
    "#### Second dataset "
   ]
  },
  {
   "cell_type": "code",
   "execution_count": 12,
   "metadata": {},
   "outputs": [
    {
     "name": "stdout",
     "output_type": "stream",
     "text": [
      "Warning: Your Kaggle API key is readable by other users on this system! To fix this, you can run 'chmod 600 /Users/lucianalescano/.kaggle/kaggle.json'\n",
      "Downloading all-products-available-on-sephora-website.zip to /Users/lucianalescano/Ironhack/Meanwhile/final-project/notebooks\n",
      "100%|██████████████████████████████████████| 4.64M/4.64M [00:02<00:00, 2.09MB/s]\n",
      "100%|██████████████████████████████████████| 4.64M/4.64M [00:02<00:00, 2.02MB/s]\n"
     ]
    }
   ],
   "source": [
    "!kaggle datasets download -d raghadalharbi/all-products-available-on-sephora-website"
   ]
  },
  {
   "cell_type": "code",
   "execution_count": 13,
   "metadata": {},
   "outputs": [
    {
     "name": "stdout",
     "output_type": "stream",
     "text": [
      "x sephora_website_dataset.csv\n"
     ]
    }
   ],
   "source": [
    "!tar -xzvf all-products-available-on-sephora-website.zip"
   ]
  },
  {
   "cell_type": "code",
   "execution_count": 14,
   "metadata": {},
   "outputs": [],
   "source": [
    "!mv ../notebooks/sephora_website_dataset.csv ../data/sephora_website_dataset.csv"
   ]
  },
  {
   "cell_type": "code",
   "execution_count": 15,
   "metadata": {},
   "outputs": [],
   "source": [
    "!rm all-products-available-on-sephora-website.zip"
   ]
  },
  {
   "cell_type": "code",
   "execution_count": 165,
   "metadata": {},
   "outputs": [],
   "source": [
    "second = pd.read_csv('../data/sephora_website_dataset.csv')"
   ]
  },
  {
   "cell_type": "markdown",
   "metadata": {},
   "source": [
    "#### Third dataset "
   ]
  },
  {
   "cell_type": "code",
   "execution_count": 17,
   "metadata": {},
   "outputs": [],
   "source": [
    "third = pd.read_csv('../data/AB1.csv', usecols=['brand', 'product_name', 'ingredients'])"
   ]
  },
  {
   "cell_type": "markdown",
   "metadata": {},
   "source": [
    "#### Fourth dataset "
   ]
  },
  {
   "cell_type": "code",
   "execution_count": 18,
   "metadata": {},
   "outputs": [],
   "source": [
    "fourth = pd.read_csv('../data/AB2.csv', usecols=['brand', 'product_name', 'ingredients'])"
   ]
  },
  {
   "cell_type": "markdown",
   "metadata": {},
   "source": [
    "#### Fifth dataset "
   ]
  },
  {
   "cell_type": "code",
   "execution_count": 19,
   "metadata": {},
   "outputs": [],
   "source": [
    "fifth = pd.read_csv('../data/Prod1.csv', usecols=['brand', 'product_name', 'ingredients'])"
   ]
  },
  {
   "cell_type": "markdown",
   "metadata": {},
   "source": [
    "#### Sixth dataset "
   ]
  },
  {
   "cell_type": "code",
   "execution_count": 20,
   "metadata": {},
   "outputs": [],
   "source": [
    "sixth = pd.read_csv('../data/Prod2.csv', usecols=['brand', 'product_name', 'ingredients'])"
   ]
  },
  {
   "cell_type": "markdown",
   "metadata": {},
   "source": [
    "#### Seventh dataset "
   ]
  },
  {
   "cell_type": "code",
   "execution_count": 21,
   "metadata": {},
   "outputs": [],
   "source": [
    "seventh = pd.read_csv('../data/red1.csv', usecols=['brand', 'product_name', 'ingredients'])"
   ]
  },
  {
   "cell_type": "markdown",
   "metadata": {},
   "source": [
    "# Cleaning"
   ]
  },
  {
   "cell_type": "markdown",
   "metadata": {},
   "source": [
    "#### Second dataset \n",
    "\n",
    "I prioritize the second dataset since it is the most complete"
   ]
  },
  {
   "cell_type": "code",
   "execution_count": 166,
   "metadata": {},
   "outputs": [],
   "source": [
    "# Droping some columns I won't use\n",
    "\n",
    "to_drop_second = ['id', 'size', 'number_of_reviews', 'love', 'value_price', 'MarketingFlags', 'MarketingFlags_content', 'options', 'details', 'how_to_use', 'online_only', 'exclusive', 'limited_edition', 'limited_time_offer']"
   ]
  },
  {
   "cell_type": "code",
   "execution_count": 167,
   "metadata": {},
   "outputs": [],
   "source": [
    "second = droping_columns(second, to_drop_second)"
   ]
  },
  {
   "cell_type": "code",
   "execution_count": 168,
   "metadata": {
    "slideshow": {
     "slide_type": "-"
    }
   },
   "outputs": [],
   "source": [
    "# Among all the categories I just want some\n",
    "\n",
    "to_stay = ['Lip Balm & Treatment', 'Face Serums', 'Moisturizers', 'Eye Creams & Treatments', 'Face Sunscreen', 'Lip Balms & Treatments', 'Face Masks', 'Face Wash & Cleansers', 'Decollete & Neck Creams', 'Face Oils', 'Tinted Moisturizer', 'Facial Peels', 'Exfoliators', 'BB & CC Cream', 'Toners', 'Sheet Masks', 'Face Wash', 'Skincare Sets', 'Moisturizer & Treatments', 'Eye Cream', 'Sunscreen', 'Face Sets', 'Anti-Aging', 'Facial Rollers', 'Eye Masks', 'Face Wipes', 'Night Creams', 'Blemish & Acne Treatments', 'Scrub & Exfoliants', 'For Face', 'Facial Cleansing Brushes', 'BB & CC Creams', 'After Sun Care', 'Lip Sunscreen', 'Lip Treatments']"
   ]
  },
  {
   "cell_type": "code",
   "execution_count": 169,
   "metadata": {},
   "outputs": [],
   "source": [
    "second = sort_by_elements(second, second.category, to_stay)"
   ]
  },
  {
   "cell_type": "code",
   "execution_count": 170,
   "metadata": {},
   "outputs": [],
   "source": [
    "# Relabeling the categories due to some are repetead\n",
    "\n",
    "allowed = {'After Sun Care':'Sunscreen & After Sun Care',\n",
    "     'Anti-Aging':'Anti-Aging',\n",
    "     'BB & CC Cream':'BB & CC Cream',\n",
    "     'BB & CC Creams':'BB & CC Cream',\n",
    "     'Blemish & Acne Treatments':'Blemish & Acne Treatment',\n",
    "     'Decollete & Neck Creams':'Decollete & Neck Cream',\n",
    "     'Exfoliators':'Exfoliator',\n",
    "     'Eye Cream':'Eye Cream',\n",
    "     'Eye Creams & Treatments':'Eye Cream',\n",
    "     'Eye Masks':'Eye Mask',\n",
    "     'Face Masks':'Face Mask',\n",
    "     'Face Oils':'Face Oil',\n",
    "     'Face Serums':'Face Serum',\n",
    "     'Face Sets':'Face Set',\n",
    "     'Face Sunscreen':'Sunscreen & After Sun Care',\n",
    "     'Face Wash':'Cleanser',\n",
    "     'Face Wash & Cleansers':'Cleanser',\n",
    "     'Face Wipes':'Face Wipe',\n",
    "     'Facial Cleansing Brushes':'Facial Cleansing Brush',\n",
    "     'Facial Peels':'Facial Peel',\n",
    "     'Facial Rollers':'Facial Roller',\n",
    "     'For Face':'Face Tanner',\n",
    "     'Lip Balm & Treatment':'Lip Balm & Treatment',\n",
    "     'Lip Balms & Treatments':'Lip Balm & Treatment',\n",
    "     'Lip Sunscreen':'Lip Sunscreen',\n",
    "     'Lip Treatments':'Lip Balm & Treatment',\n",
    "     'Moisturizer & Treatments':'Moisturizer',\n",
    "     'Moisturizers':'Moisturizer',\n",
    "     'Night Creams':'Night Cream',\n",
    "     'Scrub & Exfoliants':'Exfoliator',\n",
    "     'Sheet Masks':'Face Mask',\n",
    "     'Skincare Sets':'Face Set',\n",
    "     'Sunscreen':'Sunscreen & After Sun Care',\n",
    "     'Tinted Moisturizer':'Moisturizer',\n",
    "     'Toners':'Toner',\n",
    "          }"
   ]
  },
  {
   "cell_type": "code",
   "execution_count": 171,
   "metadata": {},
   "outputs": [],
   "source": [
    "second = re_label(second, allowed)"
   ]
  },
  {
   "cell_type": "code",
   "execution_count": 172,
   "metadata": {},
   "outputs": [],
   "source": [
    "# Reseting the index\n",
    "\n",
    "second = new_index(second)"
   ]
  },
  {
   "cell_type": "code",
   "execution_count": 174,
   "metadata": {},
   "outputs": [],
   "source": [
    "# From dollar to euros\n",
    "\n",
    "second.price = second.price.apply(lambda x: x*0.83)"
   ]
  },
  {
   "cell_type": "code",
   "execution_count": 176,
   "metadata": {},
   "outputs": [],
   "source": [
    "# Rename columns\n",
    "\n",
    "names = {'brand':'Brand',\n",
    "         'category':'Category',\n",
    "         'name': 'Name',\n",
    "         'rating':'Rating',\n",
    "         'price':'Price',\n",
    "         'URL':'URL',\n",
    "         'ingredients':'Ingredients'\n",
    "}"
   ]
  },
  {
   "cell_type": "code",
   "execution_count": 179,
   "metadata": {},
   "outputs": [],
   "source": [
    "second = rename_columns(second,names)"
   ]
  },
  {
   "cell_type": "code",
   "execution_count": 181,
   "metadata": {},
   "outputs": [],
   "source": [
    "# New order of columns\n",
    "\n",
    "columns = ['Brand', 'Category', 'Name', 'Ingredients', 'URL', 'Price', 'Rating']"
   ]
  },
  {
   "cell_type": "code",
   "execution_count": 187,
   "metadata": {},
   "outputs": [],
   "source": [
    "second = order(second, columns)"
   ]
  },
  {
   "cell_type": "code",
   "execution_count": 188,
   "metadata": {},
   "outputs": [
    {
     "data": {
      "text/html": [
       "<div>\n",
       "<style scoped>\n",
       "    .dataframe tbody tr th:only-of-type {\n",
       "        vertical-align: middle;\n",
       "    }\n",
       "\n",
       "    .dataframe tbody tr th {\n",
       "        vertical-align: top;\n",
       "    }\n",
       "\n",
       "    .dataframe thead th {\n",
       "        text-align: right;\n",
       "    }\n",
       "</style>\n",
       "<table border=\"1\" class=\"dataframe\">\n",
       "  <thead>\n",
       "    <tr style=\"text-align: right;\">\n",
       "      <th></th>\n",
       "      <th>Brand</th>\n",
       "      <th>Category</th>\n",
       "      <th>Name</th>\n",
       "      <th>Ingredients</th>\n",
       "      <th>URL</th>\n",
       "      <th>Price</th>\n",
       "      <th>Rating</th>\n",
       "    </tr>\n",
       "  </thead>\n",
       "  <tbody>\n",
       "    <tr>\n",
       "      <th>0</th>\n",
       "      <td>AERIN</td>\n",
       "      <td>Lip Balm &amp; Treatment</td>\n",
       "      <td>Rose Lip Conditioner</td>\n",
       "      <td>Polybutene; Hydrogenated Polyisobutene; Dextri...</td>\n",
       "      <td>https://www.sephora.com/product/rose-lip-condi...</td>\n",
       "      <td>24.90</td>\n",
       "      <td>4.5</td>\n",
       "    </tr>\n",
       "    <tr>\n",
       "      <th>1</th>\n",
       "      <td>Algenist</td>\n",
       "      <td>Face Serum</td>\n",
       "      <td>GENIUS Liquid Collagen</td>\n",
       "      <td>-Patented Alguronic Acid: Naturally sourced a...</td>\n",
       "      <td>https://www.sephora.com/product/genius-liquid-...</td>\n",
       "      <td>95.45</td>\n",
       "      <td>4.0</td>\n",
       "    </tr>\n",
       "    <tr>\n",
       "      <th>2</th>\n",
       "      <td>Algenist</td>\n",
       "      <td>Moisturizer</td>\n",
       "      <td>GENIUS Sleeping Collagen</td>\n",
       "      <td>-Patented Alguronic Acid: Naturally sourced a...</td>\n",
       "      <td>https://www.sephora.com/product/genius-sleepin...</td>\n",
       "      <td>81.34</td>\n",
       "      <td>4.5</td>\n",
       "    </tr>\n",
       "    <tr>\n",
       "      <th>3</th>\n",
       "      <td>Algenist</td>\n",
       "      <td>Moisturizer</td>\n",
       "      <td>GENIUS Ultimate Anti-Aging Cream</td>\n",
       "      <td>-Patented Alguronic Acid: Naturally sourced a...</td>\n",
       "      <td>https://www.sephora.com/product/genius-ultimat...</td>\n",
       "      <td>92.96</td>\n",
       "      <td>4.5</td>\n",
       "    </tr>\n",
       "    <tr>\n",
       "      <th>4</th>\n",
       "      <td>Algenist</td>\n",
       "      <td>Eye Cream</td>\n",
       "      <td>Complete Eye Renewal Balm</td>\n",
       "      <td>-Patented Alguronic Acid: Visibly minimizes t...</td>\n",
       "      <td>https://www.sephora.com/product/complete-eye-r...</td>\n",
       "      <td>56.44</td>\n",
       "      <td>4.0</td>\n",
       "    </tr>\n",
       "    <tr>\n",
       "      <th>...</th>\n",
       "      <td>...</td>\n",
       "      <td>...</td>\n",
       "      <td>...</td>\n",
       "      <td>...</td>\n",
       "      <td>...</td>\n",
       "      <td>...</td>\n",
       "      <td>...</td>\n",
       "    </tr>\n",
       "    <tr>\n",
       "      <th>2506</th>\n",
       "      <td>SEPHORA COLLECTION</td>\n",
       "      <td>Cleanser</td>\n",
       "      <td>Supreme Cleansing Oil</td>\n",
       "      <td>-Cottonseed Oil: Nourishes and provides smoot...</td>\n",
       "      <td>https://www.sephora.com/product/supreme-cleans...</td>\n",
       "      <td>12.45</td>\n",
       "      <td>4.5</td>\n",
       "    </tr>\n",
       "    <tr>\n",
       "      <th>2507</th>\n",
       "      <td>SEPHORA COLLECTION</td>\n",
       "      <td>Exfoliator</td>\n",
       "      <td>Sugar Body Scrub</td>\n",
       "      <td>-Brown Sugar from Natural Origin: Known to gen...</td>\n",
       "      <td>https://www.sephora.com/product/sephora-collec...</td>\n",
       "      <td>14.11</td>\n",
       "      <td>4.0</td>\n",
       "    </tr>\n",
       "    <tr>\n",
       "      <th>2508</th>\n",
       "      <td>SEPHORA COLLECTION</td>\n",
       "      <td>Exfoliator</td>\n",
       "      <td>Exfoliating Body Granita Scrub - Surprise Flowers</td>\n",
       "      <td>Water- Glycerin- Cellulose Acetate- Sodium Lau...</td>\n",
       "      <td>https://www.sephora.com/product/exfoliating-bo...</td>\n",
       "      <td>6.64</td>\n",
       "      <td>3.5</td>\n",
       "    </tr>\n",
       "    <tr>\n",
       "      <th>2509</th>\n",
       "      <td>SEPHORA COLLECTION</td>\n",
       "      <td>Face Mask</td>\n",
       "      <td>The Rose Gold Mask</td>\n",
       "      <td>-Rose Quartz Extract: Hydrates dry skin.  Aqua...</td>\n",
       "      <td>https://www.sephora.com/product/the-rose-gold-...</td>\n",
       "      <td>4.98</td>\n",
       "      <td>2.0</td>\n",
       "    </tr>\n",
       "    <tr>\n",
       "      <th>2510</th>\n",
       "      <td>SEPHORA COLLECTION</td>\n",
       "      <td>Moisturizer</td>\n",
       "      <td>Weekend Warrior Tone Up Cream</td>\n",
       "      <td>Aqua (Water)- Dimethicone- Isohexadecane- Poly...</td>\n",
       "      <td>https://www.sephora.com/product/sephora-collec...</td>\n",
       "      <td>13.28</td>\n",
       "      <td>0.0</td>\n",
       "    </tr>\n",
       "  </tbody>\n",
       "</table>\n",
       "<p>2511 rows × 7 columns</p>\n",
       "</div>"
      ],
      "text/plain": [
       "                   Brand              Category  \\\n",
       "0                  AERIN  Lip Balm & Treatment   \n",
       "1               Algenist            Face Serum   \n",
       "2               Algenist           Moisturizer   \n",
       "3               Algenist           Moisturizer   \n",
       "4               Algenist             Eye Cream   \n",
       "...                  ...                   ...   \n",
       "2506  SEPHORA COLLECTION              Cleanser   \n",
       "2507  SEPHORA COLLECTION            Exfoliator   \n",
       "2508  SEPHORA COLLECTION            Exfoliator   \n",
       "2509  SEPHORA COLLECTION             Face Mask   \n",
       "2510  SEPHORA COLLECTION           Moisturizer   \n",
       "\n",
       "                                                   Name  \\\n",
       "0                                  Rose Lip Conditioner   \n",
       "1                                GENIUS Liquid Collagen   \n",
       "2                              GENIUS Sleeping Collagen   \n",
       "3                      GENIUS Ultimate Anti-Aging Cream   \n",
       "4                             Complete Eye Renewal Balm   \n",
       "...                                                 ...   \n",
       "2506                              Supreme Cleansing Oil   \n",
       "2507                                   Sugar Body Scrub   \n",
       "2508  Exfoliating Body Granita Scrub - Surprise Flowers   \n",
       "2509                                 The Rose Gold Mask   \n",
       "2510                      Weekend Warrior Tone Up Cream   \n",
       "\n",
       "                                            Ingredients  \\\n",
       "0     Polybutene; Hydrogenated Polyisobutene; Dextri...   \n",
       "1      -Patented Alguronic Acid: Naturally sourced a...   \n",
       "2      -Patented Alguronic Acid: Naturally sourced a...   \n",
       "3      -Patented Alguronic Acid: Naturally sourced a...   \n",
       "4      -Patented Alguronic Acid: Visibly minimizes t...   \n",
       "...                                                 ...   \n",
       "2506   -Cottonseed Oil: Nourishes and provides smoot...   \n",
       "2507  -Brown Sugar from Natural Origin: Known to gen...   \n",
       "2508  Water- Glycerin- Cellulose Acetate- Sodium Lau...   \n",
       "2509  -Rose Quartz Extract: Hydrates dry skin.  Aqua...   \n",
       "2510  Aqua (Water)- Dimethicone- Isohexadecane- Poly...   \n",
       "\n",
       "                                                    URL  Price  Rating  \n",
       "0     https://www.sephora.com/product/rose-lip-condi...  24.90     4.5  \n",
       "1     https://www.sephora.com/product/genius-liquid-...  95.45     4.0  \n",
       "2     https://www.sephora.com/product/genius-sleepin...  81.34     4.5  \n",
       "3     https://www.sephora.com/product/genius-ultimat...  92.96     4.5  \n",
       "4     https://www.sephora.com/product/complete-eye-r...  56.44     4.0  \n",
       "...                                                 ...    ...     ...  \n",
       "2506  https://www.sephora.com/product/supreme-cleans...  12.45     4.5  \n",
       "2507  https://www.sephora.com/product/sephora-collec...  14.11     4.0  \n",
       "2508  https://www.sephora.com/product/exfoliating-bo...   6.64     3.5  \n",
       "2509  https://www.sephora.com/product/the-rose-gold-...   4.98     2.0  \n",
       "2510  https://www.sephora.com/product/sephora-collec...  13.28     0.0  \n",
       "\n",
       "[2511 rows x 7 columns]"
      ]
     },
     "execution_count": 188,
     "metadata": {},
     "output_type": "execute_result"
    }
   ],
   "source": [
    "second"
   ]
  },
  {
   "cell_type": "code",
   "execution_count": 189,
   "metadata": {},
   "outputs": [],
   "source": [
    "# Export\n",
    "\n",
    "second.to_csv('../data/clean_data.csv')"
   ]
  }
 ],
 "metadata": {
  "kernelspec": {
   "display_name": "Python 3",
   "language": "python",
   "name": "python3"
  },
  "language_info": {
   "codemirror_mode": {
    "name": "ipython",
    "version": 3
   },
   "file_extension": ".py",
   "mimetype": "text/x-python",
   "name": "python",
   "nbconvert_exporter": "python",
   "pygments_lexer": "ipython3",
   "version": "3.8.0"
  }
 },
 "nbformat": 4,
 "nbformat_minor": 4
}
