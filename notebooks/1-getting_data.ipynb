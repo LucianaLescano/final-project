{
 "cells": [
  {
   "cell_type": "code",
   "execution_count": 3,
   "metadata": {},
   "outputs": [],
   "source": [
    "import pandas as pd\n",
    "import sys"
   ]
  },
  {
   "cell_type": "code",
   "execution_count": 4,
   "metadata": {},
   "outputs": [],
   "source": [
    "%load_ext autoreload\n",
    "%autoreload 2"
   ]
  },
  {
   "cell_type": "code",
   "execution_count": 5,
   "metadata": {},
   "outputs": [],
   "source": [
    "sys.path.append('../src')"
   ]
  },
  {
   "cell_type": "code",
   "execution_count": 75,
   "metadata": {},
   "outputs": [],
   "source": [
    "from cleaning import droping_columns, sort_by_elements, re_label, new_index"
   ]
  },
  {
   "cell_type": "markdown",
   "metadata": {},
   "source": [
    "# Data\n",
    "\n",
    "#### First dataset"
   ]
  },
  {
   "cell_type": "code",
   "execution_count": 7,
   "metadata": {},
   "outputs": [
    {
     "name": "stdout",
     "output_type": "stream",
     "text": [
      "Warning: Your Kaggle API key is readable by other users on this system! To fix this, you can run 'chmod 600 /Users/lucianalescano/.kaggle/kaggle.json'\n",
      "Downloading skincare-products-and-their-ingredients.zip to /Users/lucianalescano/Ironhack/Meanwhile/final-project/notebooks\n",
      "100%|█████████████████████████████████████████| 182k/182k [00:00<00:00, 642kB/s]\n",
      "100%|█████████████████████████████████████████| 182k/182k [00:00<00:00, 640kB/s]\n"
     ]
    }
   ],
   "source": [
    "!kaggle datasets download -d eward96/skincare-products-and-their-ingredients"
   ]
  },
  {
   "cell_type": "code",
   "execution_count": 8,
   "metadata": {},
   "outputs": [
    {
     "name": "stdout",
     "output_type": "stream",
     "text": [
      "x skincare_products.csv\r\n"
     ]
    }
   ],
   "source": [
    "!tar -xzvf skincare-products-and-their-ingredients.zip"
   ]
  },
  {
   "cell_type": "code",
   "execution_count": 9,
   "metadata": {},
   "outputs": [],
   "source": [
    "!mv ../notebooks/skincare_products.csv ../data/skincare_products.csv"
   ]
  },
  {
   "cell_type": "code",
   "execution_count": 10,
   "metadata": {},
   "outputs": [],
   "source": [
    "!rm skincare-products-and-their-ingredients.zip"
   ]
  },
  {
   "cell_type": "code",
   "execution_count": 11,
   "metadata": {},
   "outputs": [],
   "source": [
    "first = pd .read_csv('../data/skincare_products.csv')"
   ]
  },
  {
   "cell_type": "markdown",
   "metadata": {},
   "source": [
    "#### Second dataset "
   ]
  },
  {
   "cell_type": "code",
   "execution_count": 12,
   "metadata": {},
   "outputs": [
    {
     "name": "stdout",
     "output_type": "stream",
     "text": [
      "Warning: Your Kaggle API key is readable by other users on this system! To fix this, you can run 'chmod 600 /Users/lucianalescano/.kaggle/kaggle.json'\n",
      "Downloading all-products-available-on-sephora-website.zip to /Users/lucianalescano/Ironhack/Meanwhile/final-project/notebooks\n",
      "100%|██████████████████████████████████████| 4.64M/4.64M [00:02<00:00, 2.09MB/s]\n",
      "100%|██████████████████████████████████████| 4.64M/4.64M [00:02<00:00, 2.02MB/s]\n"
     ]
    }
   ],
   "source": [
    "!kaggle datasets download -d raghadalharbi/all-products-available-on-sephora-website"
   ]
  },
  {
   "cell_type": "code",
   "execution_count": 13,
   "metadata": {},
   "outputs": [
    {
     "name": "stdout",
     "output_type": "stream",
     "text": [
      "x sephora_website_dataset.csv\n"
     ]
    }
   ],
   "source": [
    "!tar -xzvf all-products-available-on-sephora-website.zip"
   ]
  },
  {
   "cell_type": "code",
   "execution_count": 14,
   "metadata": {},
   "outputs": [],
   "source": [
    "!mv ../notebooks/sephora_website_dataset.csv ../data/sephora_website_dataset.csv"
   ]
  },
  {
   "cell_type": "code",
   "execution_count": 15,
   "metadata": {},
   "outputs": [],
   "source": [
    "!rm all-products-available-on-sephora-website.zip"
   ]
  },
  {
   "cell_type": "code",
   "execution_count": 61,
   "metadata": {},
   "outputs": [],
   "source": [
    "second = pd.read_csv('../data/sephora_website_dataset.csv')"
   ]
  },
  {
   "cell_type": "markdown",
   "metadata": {},
   "source": [
    "#### Third dataset "
   ]
  },
  {
   "cell_type": "code",
   "execution_count": 17,
   "metadata": {},
   "outputs": [],
   "source": [
    "third = pd.read_csv('../data/AB1.csv', usecols=['brand', 'product_name', 'ingredients'])"
   ]
  },
  {
   "cell_type": "markdown",
   "metadata": {},
   "source": [
    "#### Fourth dataset "
   ]
  },
  {
   "cell_type": "code",
   "execution_count": 18,
   "metadata": {},
   "outputs": [],
   "source": [
    "fourth = pd.read_csv('../data/AB2.csv', usecols=['brand', 'product_name', 'ingredients'])"
   ]
  },
  {
   "cell_type": "markdown",
   "metadata": {},
   "source": [
    "#### Fifth dataset "
   ]
  },
  {
   "cell_type": "code",
   "execution_count": 19,
   "metadata": {},
   "outputs": [],
   "source": [
    "fifth = pd.read_csv('../data/Prod1.csv', usecols=['brand', 'product_name', 'ingredients'])"
   ]
  },
  {
   "cell_type": "markdown",
   "metadata": {},
   "source": [
    "#### Sixth dataset "
   ]
  },
  {
   "cell_type": "code",
   "execution_count": 20,
   "metadata": {},
   "outputs": [],
   "source": [
    "sixth = pd.read_csv('../data/Prod2.csv', usecols=['brand', 'product_name', 'ingredients'])"
   ]
  },
  {
   "cell_type": "markdown",
   "metadata": {},
   "source": [
    "#### Seventh dataset "
   ]
  },
  {
   "cell_type": "code",
   "execution_count": 21,
   "metadata": {},
   "outputs": [],
   "source": [
    "seventh = pd.read_csv('../data/red1.csv', usecols=['brand', 'product_name', 'ingredients'])"
   ]
  },
  {
   "cell_type": "markdown",
   "metadata": {},
   "source": [
    "# Cleaning"
   ]
  },
  {
   "cell_type": "markdown",
   "metadata": {},
   "source": [
    "#### Second dataset \n",
    "\n",
    "I prioritize the second dataset since it is the most complete"
   ]
  },
  {
   "cell_type": "code",
   "execution_count": 62,
   "metadata": {},
   "outputs": [],
   "source": [
    "# Droping some columns I won't use\n",
    "\n",
    "to_drop_second = ['id', 'size', 'number_of_reviews', 'love', 'value_price', 'MarketingFlags', 'MarketingFlags_content', 'options', 'details', 'how_to_use', 'online_only', 'exclusive', 'limited_edition', 'limited_time_offer']"
   ]
  },
  {
   "cell_type": "code",
   "execution_count": 63,
   "metadata": {},
   "outputs": [],
   "source": [
    "second = droping_columns(second, to_drop_second)"
   ]
  },
  {
   "cell_type": "code",
   "execution_count": 64,
   "metadata": {
    "slideshow": {
     "slide_type": "-"
    }
   },
   "outputs": [],
   "source": [
    "# Among all the categories I just want some\n",
    "\n",
    "to_stay = ['Lip Balm & Treatment', 'Face Serums', 'Moisturizers', 'Eye Creams & Treatments', 'Face Sunscreen', 'Lip Balms & Treatments', 'Face Masks', 'Face Wash & Cleansers', 'Decollete & Neck Creams', 'Face Oils', 'Tinted Moisturizer', 'Facial Peels', 'Exfoliators', 'BB & CC Cream', 'Toners', 'Sheet Masks', 'Face Wash', 'Skincare Sets', 'Moisturizer & Treatments', 'Eye Cream', 'Sunscreen', 'Face Sets', 'Anti-Aging', 'Facial Rollers', 'Eye Masks', 'Face Wipes', 'Night Creams', 'Blemish & Acne Treatments', 'Scrub & Exfoliants', 'For Face', 'Facial Cleansing Brushes', 'BB & CC Creams', 'After Sun Care', 'Lip Sunscreen', 'Lip Treatments']"
   ]
  },
  {
   "cell_type": "code",
   "execution_count": 65,
   "metadata": {},
   "outputs": [],
   "source": [
    "second = sort_by_elements(second, second.category, to_stay)"
   ]
  },
  {
   "cell_type": "code",
   "execution_count": 72,
   "metadata": {},
   "outputs": [],
   "source": [
    "# Relabeling the categories due to some are repetead\n",
    "\n",
    "allowed = {'After Sun Care':'Sunscreen & After Sun Care',\n",
    "         'Anti-Aging':'Anti-Aging',\n",
    "         'BB & CC Cream':'BB & CC Cream',\n",
    "         'BB & CC Creams':'BB & CC Cream',\n",
    "         'Blemish & Acne Treatments':'Blemish & Acne Treatment',\n",
    "         'Decollete & Neck Creams':'Decollete & Neck Cream',\n",
    "         'Exfoliators':'Exfoliator',\n",
    "         'Eye Cream':'Eye Cream',\n",
    "         'Eye Creams & Treatments':'Eye Cream',\n",
    "         'Eye Masks':'Eye Mask',\n",
    "         'Face Masks':'Face Mask',\n",
    "         'Face Oils':'Face Oil',\n",
    "         'Face Serums':'Face Serum',\n",
    "         'Face Sets':'Face Set',\n",
    "         'Face Sunscreen':'Sunscreen & After Sun Care',\n",
    "         'Face Wash':'Cleanser',\n",
    "         'Face Wash & Cleansers':'Cleanser',\n",
    "         'Face Wipes':'Face Wipe',\n",
    "         'Facial Cleansing Brushes':'Facial Cleansing Brush',\n",
    "         'Facial Peels':'Facial Peel',\n",
    "         'Facial Rollers':'Facial Roller',\n",
    "         'For Face':'Face Tanner',\n",
    "         'Lip Balm & Treatment':'Lip Balm & Treatment',\n",
    "         'Lip Balms & Treatments':'Lip Balm & Treatment',\n",
    "         'Lip Sunscreen':'Lip Sunscreen',\n",
    "         'Lip Treatments':'Lip Balm & Treatment',\n",
    "         'Moisturizer & Treatments':'Moisturizer',\n",
    "         'Moisturizers':'Moisturizer',\n",
    "         'Night Creams':'Night Cream',\n",
    "         'Scrub & Exfoliants':'Exfoliator',\n",
    "         'Sheet Masks':'Face Mask',\n",
    "         'Skincare Sets':'Face Set',\n",
    "         'Sunscreen':'Sunscreen & After Sun Care',\n",
    "         'Tinted Moisturizer':'Moisturizer',\n",
    "         'Toners':'Toner',\n",
    "          }"
   ]
  },
  {
   "cell_type": "code",
   "execution_count": 74,
   "metadata": {},
   "outputs": [],
   "source": [
    "second = re_label(second, allowed)"
   ]
  },
  {
   "cell_type": "code",
   "execution_count": 76,
   "metadata": {},
   "outputs": [],
   "source": [
    "# Reseting the index\n",
    "\n",
    "second = new_index(second)"
   ]
  },
  {
   "cell_type": "code",
   "execution_count": 98,
   "metadata": {},
   "outputs": [],
   "source": [
    "# From dollar to euros\n",
    "\n"
   ]
  },
  {
   "cell_type": "code",
   "execution_count": null,
   "metadata": {},
   "outputs": [],
   "source": []
  },
  {
   "cell_type": "code",
   "execution_count": 96,
   "metadata": {},
   "outputs": [
    {
     "data": {
      "text/plain": [
       "0        30.0\n",
       "1       115.0\n",
       "2        98.0\n",
       "3       112.0\n",
       "4        68.0\n",
       "        ...  \n",
       "2506     15.0\n",
       "2507     17.0\n",
       "2508      8.0\n",
       "2509      6.0\n",
       "2510     16.0\n",
       "Name: price, Length: 2511, dtype: float64"
      ]
     },
     "execution_count": 96,
     "metadata": {},
     "output_type": "execute_result"
    }
   ],
   "source": [
    "second.price"
   ]
  },
  {
   "cell_type": "code",
   "execution_count": 99,
   "metadata": {},
   "outputs": [],
   "source": [
    "k = second.price*from_dollar_to_eur"
   ]
  },
  {
   "cell_type": "code",
   "execution_count": 101,
   "metadata": {},
   "outputs": [
    {
     "data": {
      "text/plain": [
       "pandas.core.series.Series"
      ]
     },
     "execution_count": 101,
     "metadata": {},
     "output_type": "execute_result"
    }
   ],
   "source": []
  }
 ],
 "metadata": {
  "kernelspec": {
   "display_name": "Python 3",
   "language": "python",
   "name": "python3"
  },
  "language_info": {
   "codemirror_mode": {
    "name": "ipython",
    "version": 3
   },
   "file_extension": ".py",
   "mimetype": "text/x-python",
   "name": "python",
   "nbconvert_exporter": "python",
   "pygments_lexer": "ipython3",
   "version": "3.8.0"
  }
 },
 "nbformat": 4,
 "nbformat_minor": 4
}
